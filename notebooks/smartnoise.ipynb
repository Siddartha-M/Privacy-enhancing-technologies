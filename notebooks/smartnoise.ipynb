{
 "cells": [
  {
   "cell_type": "code",
   "execution_count": 1,
   "id": "6cb3cf4f",
   "metadata": {},
   "outputs": [],
   "source": [
    "import snsql\n",
    "from snsql import Privacy\n",
    "import pandas as pd\n",
    "import matplotlib.pyplot as plt\n",
    "import seaborn as sns\n",
    "import numpy as np\n",
    "from sklearn.metrics import confusion_matrix\n",
    "import sklearn\n",
    "from snsynth import Synthesizer\n",
    "import numpy\n",
    "import torch"
   ]
  },
  {
   "cell_type": "code",
   "execution_count": 2,
   "id": "d8333675",
   "metadata": {},
   "outputs": [],
   "source": [
    "privacy = Privacy(epsilon=1.0, delta=0.01)"
   ]
  },
  {
   "cell_type": "code",
   "execution_count": 3,
   "id": "75207544",
   "metadata": {},
   "outputs": [],
   "source": [
    "trainx = pd.read_csv('trainx.csv')"
   ]
  },
  {
   "cell_type": "code",
   "execution_count": 4,
   "id": "b00c35a3",
   "metadata": {},
   "outputs": [],
   "source": [
    "testx = pd.read_csv('testx.csv')"
   ]
  },
  {
   "cell_type": "markdown",
   "id": "ece9d212",
   "metadata": {},
   "source": [
    "Original Dataset\n",
    "The original dataset of the hackathon is the panel study: \"Socio-economic impact of COVID-19 on refugees\" in Kenya from May 2020 to June 2022. It was conducted through a collaboration between the UNHCR, the World Bank, the Kenya National Bureau of Statistics and the University of California, Berkeley.\n",
    "\n",
    "The dataset consists of eight waves distant by two to four months of Rapid Response Phone Survey with refugee households in Kenya. Its goal is originally to track the socioeconomic impacts of the COVID-19 pandemic and the recovery from it in order to inform a targeted response.\n",
    "\n",
    "More details and explanations can be found on the UNHCR catalog here.\n",
    "\n",
    "Challenge Dataset\n",
    "The dataset available in the challenge has been curated to a smaller dataset of 58 columns and 11498 rows. Three of these columns are the differentially private columns (y) to query and predict on.\n",
    "\n",
    "Data description\n",
    "We describe here the resulting columns in x (the features) and y (the values to predict).\n",
    "\n",
    "x features\n",
    "\n",
    "Column name\tType\tQuestion\tPossible responses\n",
    "hhsize\tCategories\tWhat is the number of people in the household\t['1' < '2' < '3' < '4' ... '12' < '13' < '14' < '15+'] with 0 to 14 as ordinal values\n",
    "head_gender\tCategories\tWhat is the gender of the household head\t[0: 'Male' , 1: 'Female']\n",
    "s2_q2_age\tNumeric\tWhat is the age of the household head\tFloat value\n",
    "s2_q15b_schoolchildren\tNumeric\tWhat is the proportion of school-aged children (5-17 years) in the household\tFloat value\n",
    "s2_q15c_youngchildren\tNumeric\tWhat is the proportion of young children (0-4 years) in the household\tFloat value\n",
    "s2_q21_noadults\tNumeric\tHow many other adults (18 and above) members are there in the household\tFloat value\n",
    "s2_q24_numchild\tNumeric\tWhat is the proportion of children (0-17 years old) in the household\tFloat value\n",
    "urban\tCategories\tDo you live an urban area or rural/refugee camp area\t[0: 'Rural (or refugee camp)', 1: 'Urban']\n",
    "s2_q10_mktcentre\tBoolean\tIs the current residence located within a town/trading center\t1 or 0\n",
    "s2_q19_floormat\tCategories\tWhat is the predominant floor material of the main dwelling unit\t['Dung' < 'Vinyl Or Asphalt Strips' < 'Cement' < 'Earth/Sand' < 'Wood Planks/Shingles' < 'Palm/Bamboo' < 'Parquet Or Polished Wood' < 'Ceramic Tiles' < 'Carpet'] with 0 to 8 as ordinal values\n",
    "s2_q20_wallmat\tCategories\tWhat is the predominant wall material of the main dwelling unit\t['No Walls' < 'Mud/Cow Dung' < 'Cane/Palm/Trunks' < 'Grass/Reeds' < 'Cardboard' < 'Bamboo With Mud'< 'Stone With Mud'< 'Corrugated Iron Sheets' < 'Reused Wood' < 'Tent/Canvas' < 'Wood Planks/Shingles' < 'Stone With Lime/Cement' < 'Uncovered Adobe' < 'Covered Adobe' < 'Cement' < 'Cement Blocks' < 'Bricks' < 'Plywood'] with 0 to 17 as ordinal values\n",
    "s2_q21a_powergrid\tBoolean\tIs the home physically connected to the electricity grid\t1 or 0\n",
    "s2_q23_anyphone\tNumeric\tIn total, how many mobile phone numbers do all members of the household use\tInteger value\n",
    "ownasset_0\tBoolean\tDid the household own none of the following: Radio/Mattress/Charcoal/Refrigerator before March 2020\t1 or 0\n",
    "ownasset_1\tBoolean\tDid the household own a Radio before March 2020\t1 or 0\n",
    "ownasset_2\tBoolean\tDid the household own a Mattress before March 2020\t1 or 0\n",
    "ownasset_3\tBoolean\tDid the household own a Charcoal Jiko before March 2020\t1 or 0\n",
    "ownasset_4\tBoolean\tDid the household own a Refigerator before March 2020\t1 or 0\n",
    "s3_q5a_attendchurch\tCategories\tIn the past 14 days, has any member of the household attended religious service personally\t['Yes, both this week and last week', 'Yes, this week (in the past 7 days)', 'Yes, last week (between 14 to 7 days ago)', 'No'] with 0 to 3 as ordinal values\n",
    "s3_q7_visitother\tBoolean\tIn the past 14 days did anyone visit the household house, or did any household member visit another house\t1 or 0\n",
    "s5_q1\tNumeric\tHow much, in total, did the household consume from its own agricultural or pastoral production in past 7 days\tFloat value in Ksh\n",
    "s53_q6_hunger\tBoolean\tDid any adult of the household went hungry because of lack of food in the last 30 days\t1 or 0\n",
    "s53_q6_staple\tBoolean\tThe household couldnt access to staple food in the last month at any time\t1 or 0\n",
    "s5_q38_worryfood\tBoolean\tDid the responder worry that the household would not have enough food in the last 30 days\t1 or 0\n",
    "s5_q39a_hungryadult\tNumeric\tWhat is the number of days where adults in the household have gone to bed hungry in the past 7 days\tFloat value\n",
    "s5_q39b_hungrychild\tNumeric\tWhat is the number of days where children in the household have gone to bed hungry in the past 7 days\tFloat value\n",
    "s5_q42a_meat\tBoolean\tDid any of the meals that the household ate yesterday include Meat or fish\t1 or 0\n",
    "s5_q42b_eggs\tBoolean\tDid any of the meals that the household ate yesterday include Eggs\t1 or 0\n",
    "s5_q40a_skippedadult\tNumeric\tWhat is the number of days where adults in the household skipped meals in the past 7 days\tFloat value\n",
    "s5_q40b_skippedchild\tNumeric\tWhat is the number of days where children in the household skipped meals in the past 7 days\tFloat value\n",
    "s5_q41a_nofoodadult\tNumeric\tWhat is the number of days where adults in the household have gone entire day without food in the past 7 days\tFloat value\n",
    "s5_q41b_nofoodchild\tNumeric\tWhat is the number of days where children in the household have gone entire day without food in the past 7 days\tFloat value\n",
    "s4_q1_agactivity\tBoolean)\tIn the past 14 days, have any household members performed any agricultural or pastoral activities\t1 or 0\n",
    "s4_q12_num_ent\tNumeric\tIn the last months, other than farming, what is the number of non-agricultural self-employed enterprises run by members of household\tFloat value\n",
    "sum_s4_q19_earnings\tNumeric\tWhat is the total earnings/revenues of all self-employed entreprises of the household since the last survey\tFloat value\n",
    "sum_s4_q19_laidoff\tNumeric\tWhat is the total number of employees laid off in all self-employed entreprises of the household since the last survey\tFloat value\n",
    "sum_s4_q20_profits\tNumeric\tWhat is the total sum profit of all self-employed entreprises of the household since the last survey\tFloat value\n",
    "sum_s4_q20_salestrend\tNumeric\tWhat is the total earnings / revenue of all self-employed entreprises of the household in a typical current 2-weeks period\tFloat value\n",
    "sum_s4_q20c_survive\tNumeric\tAt the current scale of operations, what is the number of weeks the household would survive without selling additional assets or getting additional assistance / loans to continue business operations (aggregated for all self-employed entreprises of the household)\tFloat value\n",
    "s5_q3a_food\tNumeric\tWhat is the total household expenditure in Groceries / Food: Includes all meat, fish, eggs, dairy, oils, fats, vegetables, fruit, sugar, products and drinks\tFloat value in Ksh\n",
    "s5_q3b_personal\tNumeric\tWhat is the total household expenditure in household and personal items: Includes soap, cleaning agents, toilet paper/tissues, air freshener, shoe polish, insecticide, matches, candles, toiletries, cosmetics\tFloat value in Ksh\n",
    "s5_q3c_durables\tNumeric\tWhat is the total household expenditure in Assets / Durables : Includes vehicles (car, boat, bike, motorbike, handcarts, etc.), furniture (bed, chair, vases, mirror, etc.), kitchen and other equipment (cutlery, pots, pans, plates, etc.), electronic equipment, (lamps, mobile phone, television, etc.), tools and livestock\tFloat value in Ksh\n",
    "s5_q3d_services\tNumeric\tWhat is the total household expenditure in Local Services: Includes maize grinding, haircuts, prepared meals eaten outside the home, bicycle repair, recreation, etc\tFloat value in Ksh\n",
    "s5_q3e_comms\tNumeric\tWhat is the total household expenditure in Communication: Includes airtime, internet and other phone expenses\tFloat value in Ksh\n",
    "s5_q3f_housing\tNumeric\tWhat is the total household expenditure in Housing: Includes rent, mortgage, home maintenance, and repairs\tFloat value in Ksh\n",
    "s5_q3g_utilities\tNumeric\tWhat is the total household expenditure in Energy and Utilities: Includes electricity, water, firewood, charcoal, kerosene\tFloat value in Ksh\n",
    "s5_q3h_transport\tNumeric\tWhat is the total household expenditure in Transport: Includes petrol, tolls, taxi/bus/matatu/boda/piki/train/flight fare, hotels stays (NOT including medical reasons)\tFloat value in Ksh\n",
    "s5_q3i_medical\tNumeric\tWhat is the total medical expenses: Includes consultation fees, medicines, hospital costs, lab test costs, ambulance costs, and related transport (in Ksh)\tFloat value in Ksh\n",
    "s7_q1_receivegifthh\tBoolean\tIn the past 14 days, did anyone in the household receive a gift / assistance of money or goods from someone outside the household?\t1 or 0\n",
    "s7_q2_sendgift\tBoolean\tIn the past 14 days, did anyone in the household give or send money or goods to someone outside the household?\t1 or 0\n",
    "s9_q11_medsoutstock\tCategories\tIn the last week, has anyone in the household been unable to buy medicine?\t['No, get it for free' < 'No' < 'Yes'] with 0 to 2 as ordinal values\n",
    "wave\tNumeric\tPanel wave (id the the questionary)\tInteger value\n",
    "s5_q2_receivedfood\tBoolean\tDid you receive food as a gift in past 7 days\t1 or 0\n",
    "s5_q4_rent\tBoolean\tDo you rent your accommodation?\t1 or 0\n",
    "s9_q4_hospitalvisit\tBoolean\tIn the past 30 days, did any member visit hospital for any reason?\t1 or 0\n",
    "For boolean columns, 1 is for 'Yes' and 0 is for 'No'.\n",
    "\n",
    "NaNs values were replaced by -1.\n",
    "\n",
    "y (train_y: differentially private, test_y: to predict)\n",
    "\n",
    "Column name\tType\tQuestion\tPossible responses\n",
    "y_financial_actions\tBoolean\tIn the past 14 days, did anyone in the household take out a new loan to use on or sell any livestock or other household assets to generate income [Vehicles, Furniture, kitchen or electronic equipment, tools] ?\t1 or 0\n",
    "y_financial_help\tBoolean\tIn the past 14 days, did anyone in this household receive a gift / assistance of money or goods from a government program, a non-governmental organization/community group or an individual politician/government official?\t1 or 0\n",
    "y_return\tBoolean\tDoes the household not plan to return to their home country in the foreseeable future ?\t1 or 0\n",
    "1 is for 'Yes' and 0 is for 'No'.\n",
    "\n",
    "Test-Train split\n",
    "The test set is 20% of stratified sampling from the 8 waves of the questionnaire. This means that in each wave, 20% of the rows were randomly sampled to be in the test set (test_x and test_y) and the 80% remaining rows are in the train set (train_x, train_y).\n",
    "\n",
    "As a participant, you have full access to train_x and use differential privacy to understand and modelise its relation with train_y. Based on your model, you then use test_x to predict test_y."
   ]
  },
  {
   "cell_type": "code",
   "execution_count": 5,
   "id": "15b57d8a",
   "metadata": {},
   "outputs": [
    {
     "data": {
      "text/plain": [
       "Index(['Unnamed: 0', 'urban', 'hhsize', 'head_gender', 's2_q10_mktcentre',\n",
       "       's2_q19_floormat', 's2_q20_wallmat', 's2_q21a_powergrid', 'ownasset_0',\n",
       "       'ownasset_1', 'ownasset_2', 'ownasset_3', 'ownasset_4',\n",
       "       's3_q5a_attendchurch', 's3_q7_visitother', 's53_q6_hunger',\n",
       "       's53_q6_staple', 's5_q38_worryfood', 's5_q42a_meat', 's5_q42b_eggs',\n",
       "       's5_q2_receivedfood', 's5_q4_rent', 's7_q2_sendgift',\n",
       "       's9_q4_hospitalvisit', 's9_q11_medsoutstock', 's2_q15b_schoolchildren',\n",
       "       's2_q15c_youngchildren', 's2_q21_noadults', 's2_q23_anyphone',\n",
       "       's2_q24_numchild', 's2_q2_age', 's4_q12_num_ent', 's5_q1',\n",
       "       's5_q39a_hungryadult', 's5_q39b_hungrychild', 's5_q3a_food',\n",
       "       's5_q3b_personal', 's5_q3c_durables', 's5_q3d_services', 's5_q3e_comms',\n",
       "       's5_q3f_housing', 's5_q3g_utilities', 's5_q3h_transport',\n",
       "       's5_q3i_medical', 's5_q40a_skippedadult', 's5_q40b_skippedchild',\n",
       "       's5_q41a_nofoodadult', 's5_q41b_nofoodchild', 'wave',\n",
       "       'sum_s4_q19_earnings', 'sum_s4_q19_laidoff', 'sum_s4_q20_profits',\n",
       "       'sum_s4_q20_salestrend', 'sum_s4_q20c_survive', 's7_q1_receivegifthh',\n",
       "       's4_q1_agactivity'],\n",
       "      dtype='object')"
      ]
     },
     "execution_count": 5,
     "metadata": {},
     "output_type": "execute_result"
    }
   ],
   "source": [
    "trainx.columns"
   ]
  },
  {
   "cell_type": "code",
   "execution_count": 6,
   "id": "f16a7570",
   "metadata": {},
   "outputs": [],
   "source": [
    "given_w_fin_act = [0, -2, 0, 0, 2, 2, 1, 3, 1, 1, 1, 3, 0, 2, 1, 1, 1, 0, 0, -2, -1, 1, 0, 0, 0, 0, 1, 1, 0, 1, 1, 1, -1, -2, 1, 2, 2, 2, 1, 1, 1, 1, 1, -1, -1, -2, -3, 0, -1, 1, -1, -1, 0, -1, -1, 0, 0, 0]\n",
    "given_w_fin_help = [2, -2, 0, 1, -1, -1, 1, 1, 1, 1, 1, 0, -2, 1, -1, -1, -1, -2, -1, 1, -1, 1, 0, -1, 1, 1, 1, -1, 1, 1, 1, 1, -1, -2, 1, 2, 2, 2, 1, 1, 1, 1, 1, -2, -2, -3, -4, 0, -1, 1, -1, -1, -1, -1, 1, 0, 0, 0]\n",
    "given_w_ret = [1, -2, 0, 1, 2, 2, 1, 1, 1, 1, 1, 2, -2, 1, 0, 0, 0, 1, 2, 1, -1, 1, -1, -1, -1, -1, -1, 1, -1, 1, 1, 1, -1, -2, 1, 2, 3, 4, 4, 2, 1, 1, 1, -2, -2, -3, -4, 0, 1, -1, 1, 2, 1, 1, 1, 0, 0, 0]"
   ]
  },
  {
   "cell_type": "code",
   "execution_count": 7,
   "id": "8e2d1ebc",
   "metadata": {},
   "outputs": [
    {
     "data": {
      "text/html": [
       "<div>\n",
       "<style scoped>\n",
       "    .dataframe tbody tr th:only-of-type {\n",
       "        vertical-align: middle;\n",
       "    }\n",
       "\n",
       "    .dataframe tbody tr th {\n",
       "        vertical-align: top;\n",
       "    }\n",
       "\n",
       "    .dataframe thead th {\n",
       "        text-align: right;\n",
       "    }\n",
       "</style>\n",
       "<table border=\"1\" class=\"dataframe\">\n",
       "  <thead>\n",
       "    <tr style=\"text-align: right;\">\n",
       "      <th></th>\n",
       "      <th>Unnamed: 0</th>\n",
       "      <th>urban</th>\n",
       "      <th>hhsize</th>\n",
       "      <th>head_gender</th>\n",
       "      <th>s2_q10_mktcentre</th>\n",
       "      <th>s2_q19_floormat</th>\n",
       "      <th>s2_q20_wallmat</th>\n",
       "      <th>s2_q21a_powergrid</th>\n",
       "      <th>ownasset_0</th>\n",
       "      <th>ownasset_1</th>\n",
       "      <th>...</th>\n",
       "      <th>s5_q41a_nofoodadult</th>\n",
       "      <th>s5_q41b_nofoodchild</th>\n",
       "      <th>wave</th>\n",
       "      <th>sum_s4_q19_earnings</th>\n",
       "      <th>sum_s4_q19_laidoff</th>\n",
       "      <th>sum_s4_q20_profits</th>\n",
       "      <th>sum_s4_q20_salestrend</th>\n",
       "      <th>sum_s4_q20c_survive</th>\n",
       "      <th>s7_q1_receivegifthh</th>\n",
       "      <th>s4_q1_agactivity</th>\n",
       "    </tr>\n",
       "  </thead>\n",
       "  <tbody>\n",
       "    <tr>\n",
       "      <th>count</th>\n",
       "      <td>9199.000000</td>\n",
       "      <td>9199.000000</td>\n",
       "      <td>9199.000000</td>\n",
       "      <td>9199.000000</td>\n",
       "      <td>9199.000000</td>\n",
       "      <td>9199.000000</td>\n",
       "      <td>9199.000000</td>\n",
       "      <td>9199.000000</td>\n",
       "      <td>9199.000000</td>\n",
       "      <td>9199.000000</td>\n",
       "      <td>...</td>\n",
       "      <td>9199.000000</td>\n",
       "      <td>9199.000000</td>\n",
       "      <td>9199.000000</td>\n",
       "      <td>9199.000000</td>\n",
       "      <td>9199.000000</td>\n",
       "      <td>9199.000000</td>\n",
       "      <td>9199.000000</td>\n",
       "      <td>9199.000000</td>\n",
       "      <td>9199.000000</td>\n",
       "      <td>9199.000000</td>\n",
       "    </tr>\n",
       "    <tr>\n",
       "      <th>mean</th>\n",
       "      <td>4599.000000</td>\n",
       "      <td>0.238287</td>\n",
       "      <td>3.531797</td>\n",
       "      <td>0.450919</td>\n",
       "      <td>0.061202</td>\n",
       "      <td>2.808675</td>\n",
       "      <td>6.670834</td>\n",
       "      <td>0.426242</td>\n",
       "      <td>0.186759</td>\n",
       "      <td>0.408631</td>\n",
       "      <td>...</td>\n",
       "      <td>0.301555</td>\n",
       "      <td>0.069355</td>\n",
       "      <td>4.415806</td>\n",
       "      <td>2185.067942</td>\n",
       "      <td>0.582563</td>\n",
       "      <td>632.814328</td>\n",
       "      <td>755.134036</td>\n",
       "      <td>0.570714</td>\n",
       "      <td>0.027068</td>\n",
       "      <td>0.016306</td>\n",
       "    </tr>\n",
       "    <tr>\n",
       "      <th>std</th>\n",
       "      <td>2655.666897</td>\n",
       "      <td>0.426823</td>\n",
       "      <td>3.165412</td>\n",
       "      <td>0.500662</td>\n",
       "      <td>0.825274</td>\n",
       "      <td>1.381756</td>\n",
       "      <td>5.477893</td>\n",
       "      <td>0.494557</td>\n",
       "      <td>0.389739</td>\n",
       "      <td>0.491608</td>\n",
       "      <td>...</td>\n",
       "      <td>0.847305</td>\n",
       "      <td>0.543773</td>\n",
       "      <td>2.258913</td>\n",
       "      <td>14572.437739</td>\n",
       "      <td>15.521251</td>\n",
       "      <td>2909.461799</td>\n",
       "      <td>3770.269176</td>\n",
       "      <td>2.800688</td>\n",
       "      <td>0.466566</td>\n",
       "      <td>0.135771</td>\n",
       "    </tr>\n",
       "    <tr>\n",
       "      <th>min</th>\n",
       "      <td>0.000000</td>\n",
       "      <td>-1.000000</td>\n",
       "      <td>-1.000000</td>\n",
       "      <td>-1.000000</td>\n",
       "      <td>-1.000000</td>\n",
       "      <td>-1.000000</td>\n",
       "      <td>-1.000000</td>\n",
       "      <td>0.000000</td>\n",
       "      <td>0.000000</td>\n",
       "      <td>0.000000</td>\n",
       "      <td>...</td>\n",
       "      <td>-1.000000</td>\n",
       "      <td>-1.000000</td>\n",
       "      <td>1.000000</td>\n",
       "      <td>0.000000</td>\n",
       "      <td>0.000000</td>\n",
       "      <td>0.000000</td>\n",
       "      <td>0.000000</td>\n",
       "      <td>0.000000</td>\n",
       "      <td>-1.000000</td>\n",
       "      <td>-1.000000</td>\n",
       "    </tr>\n",
       "    <tr>\n",
       "      <th>25%</th>\n",
       "      <td>2299.500000</td>\n",
       "      <td>0.000000</td>\n",
       "      <td>1.000000</td>\n",
       "      <td>0.000000</td>\n",
       "      <td>-1.000000</td>\n",
       "      <td>2.000000</td>\n",
       "      <td>1.000000</td>\n",
       "      <td>0.000000</td>\n",
       "      <td>0.000000</td>\n",
       "      <td>0.000000</td>\n",
       "      <td>...</td>\n",
       "      <td>0.000000</td>\n",
       "      <td>0.000000</td>\n",
       "      <td>2.000000</td>\n",
       "      <td>0.000000</td>\n",
       "      <td>0.000000</td>\n",
       "      <td>0.000000</td>\n",
       "      <td>0.000000</td>\n",
       "      <td>0.000000</td>\n",
       "      <td>0.000000</td>\n",
       "      <td>0.000000</td>\n",
       "    </tr>\n",
       "    <tr>\n",
       "      <th>50%</th>\n",
       "      <td>4599.000000</td>\n",
       "      <td>0.000000</td>\n",
       "      <td>3.000000</td>\n",
       "      <td>0.000000</td>\n",
       "      <td>0.000000</td>\n",
       "      <td>3.000000</td>\n",
       "      <td>7.000000</td>\n",
       "      <td>0.000000</td>\n",
       "      <td>0.000000</td>\n",
       "      <td>0.000000</td>\n",
       "      <td>...</td>\n",
       "      <td>0.000000</td>\n",
       "      <td>0.000000</td>\n",
       "      <td>4.000000</td>\n",
       "      <td>0.000000</td>\n",
       "      <td>0.000000</td>\n",
       "      <td>0.000000</td>\n",
       "      <td>0.000000</td>\n",
       "      <td>0.000000</td>\n",
       "      <td>0.000000</td>\n",
       "      <td>0.000000</td>\n",
       "    </tr>\n",
       "    <tr>\n",
       "      <th>75%</th>\n",
       "      <td>6898.500000</td>\n",
       "      <td>0.000000</td>\n",
       "      <td>5.000000</td>\n",
       "      <td>1.000000</td>\n",
       "      <td>1.000000</td>\n",
       "      <td>3.000000</td>\n",
       "      <td>11.000000</td>\n",
       "      <td>1.000000</td>\n",
       "      <td>0.000000</td>\n",
       "      <td>1.000000</td>\n",
       "      <td>...</td>\n",
       "      <td>0.000000</td>\n",
       "      <td>0.000000</td>\n",
       "      <td>6.000000</td>\n",
       "      <td>0.000000</td>\n",
       "      <td>0.000000</td>\n",
       "      <td>0.000000</td>\n",
       "      <td>0.000000</td>\n",
       "      <td>0.000000</td>\n",
       "      <td>0.000000</td>\n",
       "      <td>0.000000</td>\n",
       "    </tr>\n",
       "    <tr>\n",
       "      <th>max</th>\n",
       "      <td>9198.000000</td>\n",
       "      <td>1.000000</td>\n",
       "      <td>14.000000</td>\n",
       "      <td>1.000000</td>\n",
       "      <td>1.000000</td>\n",
       "      <td>8.000000</td>\n",
       "      <td>17.000000</td>\n",
       "      <td>1.000000</td>\n",
       "      <td>1.000000</td>\n",
       "      <td>1.000000</td>\n",
       "      <td>...</td>\n",
       "      <td>7.000000</td>\n",
       "      <td>7.000000</td>\n",
       "      <td>8.000000</td>\n",
       "      <td>540000.000000</td>\n",
       "      <td>594.000000</td>\n",
       "      <td>150000.000000</td>\n",
       "      <td>80000.000000</td>\n",
       "      <td>150.000000</td>\n",
       "      <td>1.000000</td>\n",
       "      <td>1.000000</td>\n",
       "    </tr>\n",
       "  </tbody>\n",
       "</table>\n",
       "<p>8 rows × 56 columns</p>\n",
       "</div>"
      ],
      "text/plain": [
       "        Unnamed: 0        urban       hhsize  head_gender  s2_q10_mktcentre  \\\n",
       "count  9199.000000  9199.000000  9199.000000  9199.000000       9199.000000   \n",
       "mean   4599.000000     0.238287     3.531797     0.450919          0.061202   \n",
       "std    2655.666897     0.426823     3.165412     0.500662          0.825274   \n",
       "min       0.000000    -1.000000    -1.000000    -1.000000         -1.000000   \n",
       "25%    2299.500000     0.000000     1.000000     0.000000         -1.000000   \n",
       "50%    4599.000000     0.000000     3.000000     0.000000          0.000000   \n",
       "75%    6898.500000     0.000000     5.000000     1.000000          1.000000   \n",
       "max    9198.000000     1.000000    14.000000     1.000000          1.000000   \n",
       "\n",
       "       s2_q19_floormat  s2_q20_wallmat  s2_q21a_powergrid   ownasset_0  \\\n",
       "count      9199.000000     9199.000000        9199.000000  9199.000000   \n",
       "mean          2.808675        6.670834           0.426242     0.186759   \n",
       "std           1.381756        5.477893           0.494557     0.389739   \n",
       "min          -1.000000       -1.000000           0.000000     0.000000   \n",
       "25%           2.000000        1.000000           0.000000     0.000000   \n",
       "50%           3.000000        7.000000           0.000000     0.000000   \n",
       "75%           3.000000       11.000000           1.000000     0.000000   \n",
       "max           8.000000       17.000000           1.000000     1.000000   \n",
       "\n",
       "        ownasset_1  ...  s5_q41a_nofoodadult  s5_q41b_nofoodchild  \\\n",
       "count  9199.000000  ...          9199.000000          9199.000000   \n",
       "mean      0.408631  ...             0.301555             0.069355   \n",
       "std       0.491608  ...             0.847305             0.543773   \n",
       "min       0.000000  ...            -1.000000            -1.000000   \n",
       "25%       0.000000  ...             0.000000             0.000000   \n",
       "50%       0.000000  ...             0.000000             0.000000   \n",
       "75%       1.000000  ...             0.000000             0.000000   \n",
       "max       1.000000  ...             7.000000             7.000000   \n",
       "\n",
       "              wave  sum_s4_q19_earnings  sum_s4_q19_laidoff  \\\n",
       "count  9199.000000          9199.000000         9199.000000   \n",
       "mean      4.415806          2185.067942            0.582563   \n",
       "std       2.258913         14572.437739           15.521251   \n",
       "min       1.000000             0.000000            0.000000   \n",
       "25%       2.000000             0.000000            0.000000   \n",
       "50%       4.000000             0.000000            0.000000   \n",
       "75%       6.000000             0.000000            0.000000   \n",
       "max       8.000000        540000.000000          594.000000   \n",
       "\n",
       "       sum_s4_q20_profits  sum_s4_q20_salestrend  sum_s4_q20c_survive  \\\n",
       "count         9199.000000            9199.000000          9199.000000   \n",
       "mean           632.814328             755.134036             0.570714   \n",
       "std           2909.461799            3770.269176             2.800688   \n",
       "min              0.000000               0.000000             0.000000   \n",
       "25%              0.000000               0.000000             0.000000   \n",
       "50%              0.000000               0.000000             0.000000   \n",
       "75%              0.000000               0.000000             0.000000   \n",
       "max         150000.000000           80000.000000           150.000000   \n",
       "\n",
       "       s7_q1_receivegifthh  s4_q1_agactivity  \n",
       "count          9199.000000       9199.000000  \n",
       "mean              0.027068          0.016306  \n",
       "std               0.466566          0.135771  \n",
       "min              -1.000000         -1.000000  \n",
       "25%               0.000000          0.000000  \n",
       "50%               0.000000          0.000000  \n",
       "75%               0.000000          0.000000  \n",
       "max               1.000000          1.000000  \n",
       "\n",
       "[8 rows x 56 columns]"
      ]
     },
     "execution_count": 7,
     "metadata": {},
     "output_type": "execute_result"
    }
   ],
   "source": [
    "trainx.describe()"
   ]
  },
  {
   "cell_type": "code",
   "execution_count": 8,
   "id": "c9530604",
   "metadata": {},
   "outputs": [],
   "source": [
    "# Adding offset so the '0's in the columns have value \n",
    "trainx_ref = pd.DataFrame()\n",
    "for column in trainx:\n",
    "    trainx_ref[column] = trainx[column] + 1 "
   ]
  },
  {
   "cell_type": "code",
   "execution_count": 9,
   "id": "5a6f58de",
   "metadata": {},
   "outputs": [
    {
     "name": "stderr",
     "output_type": "stream",
     "text": [
      "C:\\Users\\mssid\\AppData\\Local\\Temp\\ipykernel_13888\\3693415543.py:3: SettingWithCopyWarning: \n",
      "A value is trying to be set on a copy of a slice from a DataFrame\n",
      "\n",
      "See the caveats in the documentation: https://pandas.pydata.org/pandas-docs/stable/user_guide/indexing.html#returning-a-view-versus-a-copy\n",
      "  trainx_ref[column][trainx_ref[column] == 0] = trainx[column].mean()+1\n"
     ]
    }
   ],
   "source": [
    "# replacing the missing values with averages\n",
    "for column in trainx:\n",
    "    trainx_ref[column][trainx_ref[column] == 0] = trainx[column].mean()+1"
   ]
  },
  {
   "cell_type": "code",
   "execution_count": 10,
   "id": "b978358e",
   "metadata": {},
   "outputs": [],
   "source": [
    "# Normalising to give equal weights to all the columns\n",
    "for column in trainx:\n",
    "    trainx_ref[column] = trainx_ref[column]/max(trainx_ref[column])"
   ]
  },
  {
   "cell_type": "code",
   "execution_count": 11,
   "id": "f4820a80",
   "metadata": {},
   "outputs": [
    {
     "name": "stderr",
     "output_type": "stream",
     "text": [
      "C:\\Users\\mssid\\AppData\\Local\\Temp\\ipykernel_13888\\3291063501.py:5: SettingWithCopyWarning: \n",
      "A value is trying to be set on a copy of a slice from a DataFrame\n",
      "\n",
      "See the caveats in the documentation: https://pandas.pydata.org/pandas-docs/stable/user_guide/indexing.html#returning-a-view-versus-a-copy\n",
      "  trainx_ref['fin_act'].iloc[ind] = sum(trainx_ref.iloc[ind][1:]*given_w_fin_act)\n",
      "C:\\Users\\mssid\\AppData\\Local\\Temp\\ipykernel_13888\\3291063501.py:6: SettingWithCopyWarning: \n",
      "A value is trying to be set on a copy of a slice from a DataFrame\n",
      "\n",
      "See the caveats in the documentation: https://pandas.pydata.org/pandas-docs/stable/user_guide/indexing.html#returning-a-view-versus-a-copy\n",
      "  trainx_ref['fin_help'].iloc[ind] = sum(trainx_ref.iloc[ind][1:]*given_w_fin_help)\n",
      "C:\\Users\\mssid\\AppData\\Local\\Temp\\ipykernel_13888\\3291063501.py:7: SettingWithCopyWarning: \n",
      "A value is trying to be set on a copy of a slice from a DataFrame\n",
      "\n",
      "See the caveats in the documentation: https://pandas.pydata.org/pandas-docs/stable/user_guide/indexing.html#returning-a-view-versus-a-copy\n",
      "  trainx_ref['ret'].iloc[ind] = sum(trainx_ref.iloc[ind][1:]*given_w_ret)\n"
     ]
    }
   ],
   "source": [
    "trainx_ref['fin_act'] = 0\n",
    "trainx_ref['fin_help'] = 0\n",
    "trainx_ref['ret'] = 0\n",
    "for ind in range(trainx_ref.shape[0]):\n",
    "    trainx_ref['fin_act'].iloc[ind] = sum(trainx_ref.iloc[ind][1:]*given_w_fin_act)\n",
    "    trainx_ref['fin_help'].iloc[ind] = sum(trainx_ref.iloc[ind][1:]*given_w_fin_help)\n",
    "    trainx_ref['ret'].iloc[ind] = sum(trainx_ref.iloc[ind][1:]*given_w_ret)"
   ]
  },
  {
   "cell_type": "code",
   "execution_count": 12,
   "id": "74fae11f",
   "metadata": {},
   "outputs": [
    {
     "data": {
      "text/plain": [
       "<AxesSubplot: xlabel='ret'>"
      ]
     },
     "execution_count": 12,
     "metadata": {},
     "output_type": "execute_result"
    },
    {
     "data": {
      "image/png": "[encoded data removed]",
      "text/plain": [
       "<Figure size 432x288 with 1 Axes>"
      ]
     },
     "metadata": {
      "needs_background": "light"
     },
     "output_type": "display_data"
    }
   ],
   "source": [
    "sns.boxplot(data = trainx_ref, x='ret')"
   ]
  },
  {
   "cell_type": "code",
   "execution_count": 13,
   "id": "a60bdc07",
   "metadata": {},
   "outputs": [
    {
     "data": {
      "text/plain": [
       "<AxesSubplot: xlabel='fin_act'>"
      ]
     },
     "execution_count": 13,
     "metadata": {},
     "output_type": "execute_result"
    },
    {
     "data": {
      "image/png": "[encoded data removed]",
      "text/plain": [
       "<Figure size 432x288 with 1 Axes>"
      ]
     },
     "metadata": {
      "needs_background": "light"
     },
     "output_type": "display_data"
    }
   ],
   "source": [
    "sns.boxplot(data = trainx_ref, x='fin_act')"
   ]
  },
  {
   "cell_type": "code",
   "execution_count": 14,
   "id": "7b2cdef4",
   "metadata": {},
   "outputs": [
    {
     "data": {
      "text/plain": [
       "<AxesSubplot: xlabel='fin_help'>"
      ]
     },
     "execution_count": 14,
     "metadata": {},
     "output_type": "execute_result"
    },
    {
     "data": {
      "image/png": "[encoded data removed]",
      "text/plain": [
       "<Figure size 432x288 with 1 Axes>"
      ]
     },
     "metadata": {
      "needs_background": "light"
     },
     "output_type": "display_data"
    }
   ],
   "source": [
    "sns.boxplot(data = trainx_ref, x='fin_help')"
   ]
  },
  {
   "cell_type": "code",
   "execution_count": 15,
   "id": "71c6a998",
   "metadata": {},
   "outputs": [
    {
     "data": {
      "text/html": [
       "<div>\n",
       "<style scoped>\n",
       "    .dataframe tbody tr th:only-of-type {\n",
       "        vertical-align: middle;\n",
       "    }\n",
       "\n",
       "    .dataframe tbody tr th {\n",
       "        vertical-align: top;\n",
       "    }\n",
       "\n",
       "    .dataframe thead th {\n",
       "        text-align: right;\n",
       "    }\n",
       "</style>\n",
       "<table border=\"1\" class=\"dataframe\">\n",
       "  <thead>\n",
       "    <tr style=\"text-align: right;\">\n",
       "      <th></th>\n",
       "      <th>Unnamed: 0</th>\n",
       "      <th>urban</th>\n",
       "      <th>hhsize</th>\n",
       "      <th>head_gender</th>\n",
       "      <th>s2_q10_mktcentre</th>\n",
       "      <th>s2_q19_floormat</th>\n",
       "      <th>s2_q20_wallmat</th>\n",
       "      <th>s2_q21a_powergrid</th>\n",
       "      <th>ownasset_0</th>\n",
       "      <th>ownasset_1</th>\n",
       "      <th>...</th>\n",
       "      <th>sum_s4_q19_earnings</th>\n",
       "      <th>sum_s4_q19_laidoff</th>\n",
       "      <th>sum_s4_q20_profits</th>\n",
       "      <th>sum_s4_q20_salestrend</th>\n",
       "      <th>sum_s4_q20c_survive</th>\n",
       "      <th>s7_q1_receivegifthh</th>\n",
       "      <th>s4_q1_agactivity</th>\n",
       "      <th>fin_act</th>\n",
       "      <th>fin_help</th>\n",
       "      <th>ret</th>\n",
       "    </tr>\n",
       "  </thead>\n",
       "  <tbody>\n",
       "    <tr>\n",
       "      <th>count</th>\n",
       "      <td>9199.000000</td>\n",
       "      <td>9199.000000</td>\n",
       "      <td>9199.000000</td>\n",
       "      <td>9199.000000</td>\n",
       "      <td>9199.000000</td>\n",
       "      <td>9199.000000</td>\n",
       "      <td>9199.000000</td>\n",
       "      <td>9199.000000</td>\n",
       "      <td>9199.00000</td>\n",
       "      <td>9199.000000</td>\n",
       "      <td>...</td>\n",
       "      <td>9199.000000</td>\n",
       "      <td>9199.000000</td>\n",
       "      <td>9199.000000</td>\n",
       "      <td>9199.000000</td>\n",
       "      <td>9199.000000</td>\n",
       "      <td>9199.000000</td>\n",
       "      <td>9199.000000</td>\n",
       "      <td>9199.000000</td>\n",
       "      <td>9199.000000</td>\n",
       "      <td>9199.000000</td>\n",
       "    </tr>\n",
       "    <tr>\n",
       "      <th>mean</th>\n",
       "      <td>0.500054</td>\n",
       "      <td>0.619345</td>\n",
       "      <td>0.307572</td>\n",
       "      <td>0.726563</td>\n",
       "      <td>0.696028</td>\n",
       "      <td>0.429167</td>\n",
       "      <td>0.509730</td>\n",
       "      <td>0.713121</td>\n",
       "      <td>0.59338</td>\n",
       "      <td>0.704316</td>\n",
       "      <td>...</td>\n",
       "      <td>0.004048</td>\n",
       "      <td>0.002660</td>\n",
       "      <td>0.004225</td>\n",
       "      <td>0.009452</td>\n",
       "      <td>0.010402</td>\n",
       "      <td>0.562660</td>\n",
       "      <td>0.508761</td>\n",
       "      <td>8.160311</td>\n",
       "      <td>-2.610093</td>\n",
       "      <td>6.636397</td>\n",
       "    </tr>\n",
       "    <tr>\n",
       "      <th>std</th>\n",
       "      <td>0.288691</td>\n",
       "      <td>0.213118</td>\n",
       "      <td>0.207016</td>\n",
       "      <td>0.248723</td>\n",
       "      <td>0.234765</td>\n",
       "      <td>0.144928</td>\n",
       "      <td>0.223631</td>\n",
       "      <td>0.247278</td>\n",
       "      <td>0.19487</td>\n",
       "      <td>0.245804</td>\n",
       "      <td>...</td>\n",
       "      <td>0.026986</td>\n",
       "      <td>0.026086</td>\n",
       "      <td>0.019396</td>\n",
       "      <td>0.047128</td>\n",
       "      <td>0.018548</td>\n",
       "      <td>0.163636</td>\n",
       "      <td>0.065569</td>\n",
       "      <td>1.484848</td>\n",
       "      <td>2.128847</td>\n",
       "      <td>2.521359</td>\n",
       "    </tr>\n",
       "    <tr>\n",
       "      <th>min</th>\n",
       "      <td>0.000109</td>\n",
       "      <td>0.500000</td>\n",
       "      <td>0.066667</td>\n",
       "      <td>0.500000</td>\n",
       "      <td>0.500000</td>\n",
       "      <td>0.111111</td>\n",
       "      <td>0.055556</td>\n",
       "      <td>0.500000</td>\n",
       "      <td>0.50000</td>\n",
       "      <td>0.500000</td>\n",
       "      <td>...</td>\n",
       "      <td>0.000002</td>\n",
       "      <td>0.001681</td>\n",
       "      <td>0.000007</td>\n",
       "      <td>0.000012</td>\n",
       "      <td>0.006623</td>\n",
       "      <td>0.500000</td>\n",
       "      <td>0.500000</td>\n",
       "      <td>0.471408</td>\n",
       "      <td>-13.265492</td>\n",
       "      <td>-4.422093</td>\n",
       "    </tr>\n",
       "    <tr>\n",
       "      <th>25%</th>\n",
       "      <td>0.250082</td>\n",
       "      <td>0.500000</td>\n",
       "      <td>0.133333</td>\n",
       "      <td>0.500000</td>\n",
       "      <td>0.500000</td>\n",
       "      <td>0.333333</td>\n",
       "      <td>0.426157</td>\n",
       "      <td>0.500000</td>\n",
       "      <td>0.50000</td>\n",
       "      <td>0.500000</td>\n",
       "      <td>...</td>\n",
       "      <td>0.000002</td>\n",
       "      <td>0.001681</td>\n",
       "      <td>0.000007</td>\n",
       "      <td>0.000012</td>\n",
       "      <td>0.006623</td>\n",
       "      <td>0.500000</td>\n",
       "      <td>0.500000</td>\n",
       "      <td>7.246910</td>\n",
       "      <td>-3.796986</td>\n",
       "      <td>5.159850</td>\n",
       "    </tr>\n",
       "    <tr>\n",
       "      <th>50%</th>\n",
       "      <td>0.500054</td>\n",
       "      <td>0.500000</td>\n",
       "      <td>0.266667</td>\n",
       "      <td>0.500000</td>\n",
       "      <td>0.530601</td>\n",
       "      <td>0.444444</td>\n",
       "      <td>0.444444</td>\n",
       "      <td>0.500000</td>\n",
       "      <td>0.50000</td>\n",
       "      <td>0.500000</td>\n",
       "      <td>...</td>\n",
       "      <td>0.000002</td>\n",
       "      <td>0.001681</td>\n",
       "      <td>0.000007</td>\n",
       "      <td>0.000012</td>\n",
       "      <td>0.006623</td>\n",
       "      <td>0.500000</td>\n",
       "      <td>0.500000</td>\n",
       "      <td>8.156287</td>\n",
       "      <td>-2.241972</td>\n",
       "      <td>7.026510</td>\n",
       "    </tr>\n",
       "    <tr>\n",
       "      <th>75%</th>\n",
       "      <td>0.750027</td>\n",
       "      <td>0.500000</td>\n",
       "      <td>0.400000</td>\n",
       "      <td>1.000000</td>\n",
       "      <td>1.000000</td>\n",
       "      <td>0.444444</td>\n",
       "      <td>0.666667</td>\n",
       "      <td>1.000000</td>\n",
       "      <td>0.50000</td>\n",
       "      <td>1.000000</td>\n",
       "      <td>...</td>\n",
       "      <td>0.000002</td>\n",
       "      <td>0.001681</td>\n",
       "      <td>0.000007</td>\n",
       "      <td>0.000012</td>\n",
       "      <td>0.006623</td>\n",
       "      <td>0.500000</td>\n",
       "      <td>0.500000</td>\n",
       "      <td>9.173886</td>\n",
       "      <td>-1.149491</td>\n",
       "      <td>8.401327</td>\n",
       "    </tr>\n",
       "    <tr>\n",
       "      <th>max</th>\n",
       "      <td>1.000000</td>\n",
       "      <td>1.000000</td>\n",
       "      <td>1.000000</td>\n",
       "      <td>1.000000</td>\n",
       "      <td>1.000000</td>\n",
       "      <td>1.000000</td>\n",
       "      <td>1.000000</td>\n",
       "      <td>1.000000</td>\n",
       "      <td>1.00000</td>\n",
       "      <td>1.000000</td>\n",
       "      <td>...</td>\n",
       "      <td>1.000000</td>\n",
       "      <td>1.000000</td>\n",
       "      <td>1.000000</td>\n",
       "      <td>1.000000</td>\n",
       "      <td>1.000000</td>\n",
       "      <td>1.000000</td>\n",
       "      <td>1.000000</td>\n",
       "      <td>13.767044</td>\n",
       "      <td>3.813127</td>\n",
       "      <td>14.256803</td>\n",
       "    </tr>\n",
       "  </tbody>\n",
       "</table>\n",
       "<p>8 rows × 59 columns</p>\n",
       "</div>"
      ],
      "text/plain": [
       "        Unnamed: 0        urban       hhsize  head_gender  s2_q10_mktcentre  \\\n",
       "count  9199.000000  9199.000000  9199.000000  9199.000000       9199.000000   \n",
       "mean      0.500054     0.619345     0.307572     0.726563          0.696028   \n",
       "std       0.288691     0.213118     0.207016     0.248723          0.234765   \n",
       "min       0.000109     0.500000     0.066667     0.500000          0.500000   \n",
       "25%       0.250082     0.500000     0.133333     0.500000          0.500000   \n",
       "50%       0.500054     0.500000     0.266667     0.500000          0.530601   \n",
       "75%       0.750027     0.500000     0.400000     1.000000          1.000000   \n",
       "max       1.000000     1.000000     1.000000     1.000000          1.000000   \n",
       "\n",
       "       s2_q19_floormat  s2_q20_wallmat  s2_q21a_powergrid  ownasset_0  \\\n",
       "count      9199.000000     9199.000000        9199.000000  9199.00000   \n",
       "mean          0.429167        0.509730           0.713121     0.59338   \n",
       "std           0.144928        0.223631           0.247278     0.19487   \n",
       "min           0.111111        0.055556           0.500000     0.50000   \n",
       "25%           0.333333        0.426157           0.500000     0.50000   \n",
       "50%           0.444444        0.444444           0.500000     0.50000   \n",
       "75%           0.444444        0.666667           1.000000     0.50000   \n",
       "max           1.000000        1.000000           1.000000     1.00000   \n",
       "\n",
       "        ownasset_1  ...  sum_s4_q19_earnings  sum_s4_q19_laidoff  \\\n",
       "count  9199.000000  ...          9199.000000         9199.000000   \n",
       "mean      0.704316  ...             0.004048            0.002660   \n",
       "std       0.245804  ...             0.026986            0.026086   \n",
       "min       0.500000  ...             0.000002            0.001681   \n",
       "25%       0.500000  ...             0.000002            0.001681   \n",
       "50%       0.500000  ...             0.000002            0.001681   \n",
       "75%       1.000000  ...             0.000002            0.001681   \n",
       "max       1.000000  ...             1.000000            1.000000   \n",
       "\n",
       "       sum_s4_q20_profits  sum_s4_q20_salestrend  sum_s4_q20c_survive  \\\n",
       "count         9199.000000            9199.000000          9199.000000   \n",
       "mean             0.004225               0.009452             0.010402   \n",
       "std              0.019396               0.047128             0.018548   \n",
       "min              0.000007               0.000012             0.006623   \n",
       "25%              0.000007               0.000012             0.006623   \n",
       "50%              0.000007               0.000012             0.006623   \n",
       "75%              0.000007               0.000012             0.006623   \n",
       "max              1.000000               1.000000             1.000000   \n",
       "\n",
       "       s7_q1_receivegifthh  s4_q1_agactivity      fin_act     fin_help  \\\n",
       "count          9199.000000       9199.000000  9199.000000  9199.000000   \n",
       "mean              0.562660          0.508761     8.160311    -2.610093   \n",
       "std               0.163636          0.065569     1.484848     2.128847   \n",
       "min               0.500000          0.500000     0.471408   -13.265492   \n",
       "25%               0.500000          0.500000     7.246910    -3.796986   \n",
       "50%               0.500000          0.500000     8.156287    -2.241972   \n",
       "75%               0.500000          0.500000     9.173886    -1.149491   \n",
       "max               1.000000          1.000000    13.767044     3.813127   \n",
       "\n",
       "               ret  \n",
       "count  9199.000000  \n",
       "mean      6.636397  \n",
       "std       2.521359  \n",
       "min      -4.422093  \n",
       "25%       5.159850  \n",
       "50%       7.026510  \n",
       "75%       8.401327  \n",
       "max      14.256803  \n",
       "\n",
       "[8 rows x 59 columns]"
      ]
     },
     "execution_count": 15,
     "metadata": {},
     "output_type": "execute_result"
    }
   ],
   "source": [
    "trainx_ref.describe()"
   ]
  },
  {
   "cell_type": "code",
   "execution_count": 16,
   "id": "4fd3e583",
   "metadata": {},
   "outputs": [],
   "source": [
    "trainx_ref['fin_act'][trainx_ref['fin_act'] < 9.17] = 0\n",
    "trainx_ref['fin_act'][trainx_ref['fin_act'] > 9.17] = 1\n",
    "trainx_ref['fin_help'][trainx_ref['fin_help'] > -1.15] = 1\n",
    "trainx_ref['fin_help'][trainx_ref['fin_help'] < -1.15] = 0\n",
    "trainx_ref['ret'][trainx_ref['ret'] < 8.4] = 0\n",
    "trainx_ref['ret'][trainx_ref['ret'] > 8.4] = 1"
   ]
  },
  {
   "cell_type": "code",
   "execution_count": 17,
   "id": "7e265a8c",
   "metadata": {},
   "outputs": [
    {
     "name": "stdout",
     "output_type": "stream",
     "text": [
      "6895\n",
      "6898\n",
      "6899\n"
     ]
    }
   ],
   "source": [
    "print(trainx_ref['fin_act'][trainx_ref['fin_act'] == 0].shape[0])\n",
    "print(trainx_ref['fin_help'][trainx_ref['fin_help'] == 0].shape[0])\n",
    "print(trainx_ref['ret'][trainx_ref['ret'] == 0].shape[0])"
   ]
  },
  {
   "cell_type": "code",
   "execution_count": 18,
   "id": "5d45cbad",
   "metadata": {},
   "outputs": [
    {
     "name": "stdout",
     "output_type": "stream",
     "text": [
      "2304\n",
      "2301\n",
      "2300\n"
     ]
    }
   ],
   "source": [
    "print(trainx_ref['fin_act'][trainx_ref['fin_act'] == 1].shape[0])\n",
    "print(trainx_ref['fin_help'][trainx_ref['fin_help'] == 1].shape[0])\n",
    "print(trainx_ref['ret'][trainx_ref['ret'] == 1].shape[0])"
   ]
  },
  {
   "cell_type": "code",
   "execution_count": 19,
   "id": "e5732a55",
   "metadata": {},
   "outputs": [],
   "source": [
    "trainx_ref.drop(columns = ['Unnamed: 0'], inplace=True)"
   ]
  },
  {
   "cell_type": "code",
   "execution_count": 20,
   "id": "8844a347",
   "metadata": {},
   "outputs": [
    {
     "name": "stderr",
     "output_type": "stream",
     "text": [
      "C:\\Users\\mssid\\AppData\\Local\\Temp\\ipykernel_13888\\1767936653.py:7: SettingWithCopyWarning: \n",
      "A value is trying to be set on a copy of a slice from a DataFrame\n",
      "\n",
      "See the caveats in the documentation: https://pandas.pydata.org/pandas-docs/stable/user_guide/indexing.html#returning-a-view-versus-a-copy\n",
      "  testx_ref[column][testx_ref[column] == 0] = testx[column].mean()+1\n",
      "C:\\Users\\mssid\\AppData\\Local\\Temp\\ipykernel_13888\\1767936653.py:16: SettingWithCopyWarning: \n",
      "A value is trying to be set on a copy of a slice from a DataFrame\n",
      "\n",
      "See the caveats in the documentation: https://pandas.pydata.org/pandas-docs/stable/user_guide/indexing.html#returning-a-view-versus-a-copy\n",
      "  testx_ref['fin_act'].iloc[ind] = sum(testx_ref.iloc[ind][1:]*given_w_fin_act)\n",
      "C:\\Users\\mssid\\AppData\\Local\\Temp\\ipykernel_13888\\1767936653.py:17: SettingWithCopyWarning: \n",
      "A value is trying to be set on a copy of a slice from a DataFrame\n",
      "\n",
      "See the caveats in the documentation: https://pandas.pydata.org/pandas-docs/stable/user_guide/indexing.html#returning-a-view-versus-a-copy\n",
      "  testx_ref['fin_help'].iloc[ind] = sum(testx_ref.iloc[ind][1:]*given_w_fin_help)\n",
      "C:\\Users\\mssid\\AppData\\Local\\Temp\\ipykernel_13888\\1767936653.py:18: SettingWithCopyWarning: \n",
      "A value is trying to be set on a copy of a slice from a DataFrame\n",
      "\n",
      "See the caveats in the documentation: https://pandas.pydata.org/pandas-docs/stable/user_guide/indexing.html#returning-a-view-versus-a-copy\n",
      "  testx_ref['ret'].iloc[ind] = sum(testx_ref.iloc[ind][1:]*given_w_ret)\n"
     ]
    }
   ],
   "source": [
    "# Prepare test data:\n",
    "testx_ref = pd.DataFrame()\n",
    "for column in testx:\n",
    "    testx_ref[column] = testx[column] + 1\n",
    "    \n",
    "for column in testx:\n",
    "    testx_ref[column][testx_ref[column] == 0] = testx[column].mean()+1\n",
    "\n",
    "for column in testx:\n",
    "    testx_ref[column] = testx_ref[column]/max(testx_ref[column])\n",
    "\n",
    "testx_ref['fin_act'] = 0\n",
    "testx_ref['fin_help'] = 0\n",
    "testx_ref['ret'] = 0\n",
    "for ind in range(testx_ref.shape[0]):\n",
    "    testx_ref['fin_act'].iloc[ind] = sum(testx_ref.iloc[ind][1:]*given_w_fin_act)\n",
    "    testx_ref['fin_help'].iloc[ind] = sum(testx_ref.iloc[ind][1:]*given_w_fin_help)\n",
    "    testx_ref['ret'].iloc[ind] = sum(testx_ref.iloc[ind][1:]*given_w_ret)"
   ]
  },
  {
   "cell_type": "code",
   "execution_count": 21,
   "id": "9ad772e9",
   "metadata": {},
   "outputs": [
    {
     "data": {
      "text/html": [
       "<div>\n",
       "<style scoped>\n",
       "    .dataframe tbody tr th:only-of-type {\n",
       "        vertical-align: middle;\n",
       "    }\n",
       "\n",
       "    .dataframe tbody tr th {\n",
       "        vertical-align: top;\n",
       "    }\n",
       "\n",
       "    .dataframe thead th {\n",
       "        text-align: right;\n",
       "    }\n",
       "</style>\n",
       "<table border=\"1\" class=\"dataframe\">\n",
       "  <thead>\n",
       "    <tr style=\"text-align: right;\">\n",
       "      <th></th>\n",
       "      <th>Unnamed: 0</th>\n",
       "      <th>urban</th>\n",
       "      <th>hhsize</th>\n",
       "      <th>head_gender</th>\n",
       "      <th>s2_q10_mktcentre</th>\n",
       "      <th>s2_q19_floormat</th>\n",
       "      <th>s2_q20_wallmat</th>\n",
       "      <th>s2_q21a_powergrid</th>\n",
       "      <th>ownasset_0</th>\n",
       "      <th>ownasset_1</th>\n",
       "      <th>...</th>\n",
       "      <th>sum_s4_q19_earnings</th>\n",
       "      <th>sum_s4_q19_laidoff</th>\n",
       "      <th>sum_s4_q20_profits</th>\n",
       "      <th>sum_s4_q20_salestrend</th>\n",
       "      <th>sum_s4_q20c_survive</th>\n",
       "      <th>s7_q1_receivegifthh</th>\n",
       "      <th>s4_q1_agactivity</th>\n",
       "      <th>fin_act</th>\n",
       "      <th>fin_help</th>\n",
       "      <th>ret</th>\n",
       "    </tr>\n",
       "  </thead>\n",
       "  <tbody>\n",
       "    <tr>\n",
       "      <th>count</th>\n",
       "      <td>2299.000000</td>\n",
       "      <td>2299.000000</td>\n",
       "      <td>2299.000000</td>\n",
       "      <td>2299.000000</td>\n",
       "      <td>2299.000000</td>\n",
       "      <td>2299.000000</td>\n",
       "      <td>2299.000000</td>\n",
       "      <td>2299.000000</td>\n",
       "      <td>2299.000000</td>\n",
       "      <td>2299.000000</td>\n",
       "      <td>...</td>\n",
       "      <td>2299.000000</td>\n",
       "      <td>2299.000000</td>\n",
       "      <td>2299.000000</td>\n",
       "      <td>2299.000000</td>\n",
       "      <td>2299.000000</td>\n",
       "      <td>2299.000000</td>\n",
       "      <td>2299.000000</td>\n",
       "      <td>2299.000000</td>\n",
       "      <td>2299.000000</td>\n",
       "      <td>2299.000000</td>\n",
       "    </tr>\n",
       "    <tr>\n",
       "      <th>mean</th>\n",
       "      <td>0.500217</td>\n",
       "      <td>0.629404</td>\n",
       "      <td>0.305592</td>\n",
       "      <td>0.730717</td>\n",
       "      <td>0.709123</td>\n",
       "      <td>0.424365</td>\n",
       "      <td>0.507901</td>\n",
       "      <td>0.714876</td>\n",
       "      <td>0.589604</td>\n",
       "      <td>0.708134</td>\n",
       "      <td>...</td>\n",
       "      <td>0.004724</td>\n",
       "      <td>0.009321</td>\n",
       "      <td>0.006817</td>\n",
       "      <td>0.008723</td>\n",
       "      <td>0.102943</td>\n",
       "      <td>0.566686</td>\n",
       "      <td>0.511319</td>\n",
       "      <td>8.606951</td>\n",
       "      <td>-1.891349</td>\n",
       "      <td>6.721317</td>\n",
       "    </tr>\n",
       "    <tr>\n",
       "      <th>std</th>\n",
       "      <td>0.288738</td>\n",
       "      <td>0.219038</td>\n",
       "      <td>0.206026</td>\n",
       "      <td>0.249093</td>\n",
       "      <td>0.234171</td>\n",
       "      <td>0.147044</td>\n",
       "      <td>0.221408</td>\n",
       "      <td>0.247574</td>\n",
       "      <td>0.191805</td>\n",
       "      <td>0.246523</td>\n",
       "      <td>...</td>\n",
       "      <td>0.030890</td>\n",
       "      <td>0.026161</td>\n",
       "      <td>0.030357</td>\n",
       "      <td>0.042180</td>\n",
       "      <td>0.101686</td>\n",
       "      <td>0.167655</td>\n",
       "      <td>0.074357</td>\n",
       "      <td>1.441643</td>\n",
       "      <td>2.073311</td>\n",
       "      <td>2.597043</td>\n",
       "    </tr>\n",
       "    <tr>\n",
       "      <th>min</th>\n",
       "      <td>0.000435</td>\n",
       "      <td>0.500000</td>\n",
       "      <td>0.066667</td>\n",
       "      <td>0.500000</td>\n",
       "      <td>0.500000</td>\n",
       "      <td>0.111111</td>\n",
       "      <td>0.055556</td>\n",
       "      <td>0.500000</td>\n",
       "      <td>0.500000</td>\n",
       "      <td>0.500000</td>\n",
       "      <td>...</td>\n",
       "      <td>0.000002</td>\n",
       "      <td>0.008264</td>\n",
       "      <td>0.000010</td>\n",
       "      <td>0.000011</td>\n",
       "      <td>0.066667</td>\n",
       "      <td>0.500000</td>\n",
       "      <td>0.500000</td>\n",
       "      <td>2.569190</td>\n",
       "      <td>-10.574221</td>\n",
       "      <td>-3.534224</td>\n",
       "    </tr>\n",
       "    <tr>\n",
       "      <th>25%</th>\n",
       "      <td>0.250326</td>\n",
       "      <td>0.500000</td>\n",
       "      <td>0.133333</td>\n",
       "      <td>0.500000</td>\n",
       "      <td>0.500000</td>\n",
       "      <td>0.333333</td>\n",
       "      <td>0.422913</td>\n",
       "      <td>0.500000</td>\n",
       "      <td>0.500000</td>\n",
       "      <td>0.500000</td>\n",
       "      <td>...</td>\n",
       "      <td>0.000002</td>\n",
       "      <td>0.008264</td>\n",
       "      <td>0.000010</td>\n",
       "      <td>0.000011</td>\n",
       "      <td>0.066667</td>\n",
       "      <td>0.500000</td>\n",
       "      <td>0.500000</td>\n",
       "      <td>7.736332</td>\n",
       "      <td>-3.076115</td>\n",
       "      <td>5.190994</td>\n",
       "    </tr>\n",
       "    <tr>\n",
       "      <th>50%</th>\n",
       "      <td>0.500217</td>\n",
       "      <td>0.500000</td>\n",
       "      <td>0.266667</td>\n",
       "      <td>0.500000</td>\n",
       "      <td>0.543062</td>\n",
       "      <td>0.444444</td>\n",
       "      <td>0.444444</td>\n",
       "      <td>0.500000</td>\n",
       "      <td>0.500000</td>\n",
       "      <td>0.500000</td>\n",
       "      <td>...</td>\n",
       "      <td>0.000002</td>\n",
       "      <td>0.008264</td>\n",
       "      <td>0.000010</td>\n",
       "      <td>0.000011</td>\n",
       "      <td>0.066667</td>\n",
       "      <td>0.500000</td>\n",
       "      <td>0.500000</td>\n",
       "      <td>8.611432</td>\n",
       "      <td>-1.533992</td>\n",
       "      <td>7.026168</td>\n",
       "    </tr>\n",
       "    <tr>\n",
       "      <th>75%</th>\n",
       "      <td>0.750109</td>\n",
       "      <td>1.000000</td>\n",
       "      <td>0.400000</td>\n",
       "      <td>1.000000</td>\n",
       "      <td>1.000000</td>\n",
       "      <td>0.444444</td>\n",
       "      <td>0.666667</td>\n",
       "      <td>1.000000</td>\n",
       "      <td>0.500000</td>\n",
       "      <td>1.000000</td>\n",
       "      <td>...</td>\n",
       "      <td>0.000002</td>\n",
       "      <td>0.008264</td>\n",
       "      <td>0.000010</td>\n",
       "      <td>0.000011</td>\n",
       "      <td>0.066667</td>\n",
       "      <td>0.500000</td>\n",
       "      <td>0.500000</td>\n",
       "      <td>9.555581</td>\n",
       "      <td>-0.523380</td>\n",
       "      <td>8.532683</td>\n",
       "    </tr>\n",
       "    <tr>\n",
       "      <th>max</th>\n",
       "      <td>1.000000</td>\n",
       "      <td>1.000000</td>\n",
       "      <td>1.000000</td>\n",
       "      <td>1.000000</td>\n",
       "      <td>1.000000</td>\n",
       "      <td>1.000000</td>\n",
       "      <td>1.000000</td>\n",
       "      <td>1.000000</td>\n",
       "      <td>1.000000</td>\n",
       "      <td>1.000000</td>\n",
       "      <td>...</td>\n",
       "      <td>1.000000</td>\n",
       "      <td>1.000000</td>\n",
       "      <td>1.000000</td>\n",
       "      <td>1.000000</td>\n",
       "      <td>1.000000</td>\n",
       "      <td>1.000000</td>\n",
       "      <td>1.000000</td>\n",
       "      <td>14.399297</td>\n",
       "      <td>5.015726</td>\n",
       "      <td>15.641258</td>\n",
       "    </tr>\n",
       "  </tbody>\n",
       "</table>\n",
       "<p>8 rows × 59 columns</p>\n",
       "</div>"
      ],
      "text/plain": [
       "        Unnamed: 0        urban       hhsize  head_gender  s2_q10_mktcentre  \\\n",
       "count  2299.000000  2299.000000  2299.000000  2299.000000       2299.000000   \n",
       "mean      0.500217     0.629404     0.305592     0.730717          0.709123   \n",
       "std       0.288738     0.219038     0.206026     0.249093          0.234171   \n",
       "min       0.000435     0.500000     0.066667     0.500000          0.500000   \n",
       "25%       0.250326     0.500000     0.133333     0.500000          0.500000   \n",
       "50%       0.500217     0.500000     0.266667     0.500000          0.543062   \n",
       "75%       0.750109     1.000000     0.400000     1.000000          1.000000   \n",
       "max       1.000000     1.000000     1.000000     1.000000          1.000000   \n",
       "\n",
       "       s2_q19_floormat  s2_q20_wallmat  s2_q21a_powergrid   ownasset_0  \\\n",
       "count      2299.000000     2299.000000        2299.000000  2299.000000   \n",
       "mean          0.424365        0.507901           0.714876     0.589604   \n",
       "std           0.147044        0.221408           0.247574     0.191805   \n",
       "min           0.111111        0.055556           0.500000     0.500000   \n",
       "25%           0.333333        0.422913           0.500000     0.500000   \n",
       "50%           0.444444        0.444444           0.500000     0.500000   \n",
       "75%           0.444444        0.666667           1.000000     0.500000   \n",
       "max           1.000000        1.000000           1.000000     1.000000   \n",
       "\n",
       "        ownasset_1  ...  sum_s4_q19_earnings  sum_s4_q19_laidoff  \\\n",
       "count  2299.000000  ...          2299.000000         2299.000000   \n",
       "mean      0.708134  ...             0.004724            0.009321   \n",
       "std       0.246523  ...             0.030890            0.026161   \n",
       "min       0.500000  ...             0.000002            0.008264   \n",
       "25%       0.500000  ...             0.000002            0.008264   \n",
       "50%       0.500000  ...             0.000002            0.008264   \n",
       "75%       1.000000  ...             0.000002            0.008264   \n",
       "max       1.000000  ...             1.000000            1.000000   \n",
       "\n",
       "       sum_s4_q20_profits  sum_s4_q20_salestrend  sum_s4_q20c_survive  \\\n",
       "count         2299.000000            2299.000000          2299.000000   \n",
       "mean             0.006817               0.008723             0.102943   \n",
       "std              0.030357               0.042180             0.101686   \n",
       "min              0.000010               0.000011             0.066667   \n",
       "25%              0.000010               0.000011             0.066667   \n",
       "50%              0.000010               0.000011             0.066667   \n",
       "75%              0.000010               0.000011             0.066667   \n",
       "max              1.000000               1.000000             1.000000   \n",
       "\n",
       "       s7_q1_receivegifthh  s4_q1_agactivity      fin_act     fin_help  \\\n",
       "count          2299.000000       2299.000000  2299.000000  2299.000000   \n",
       "mean              0.566686          0.511319     8.606951    -1.891349   \n",
       "std               0.167655          0.074357     1.441643     2.073311   \n",
       "min               0.500000          0.500000     2.569190   -10.574221   \n",
       "25%               0.500000          0.500000     7.736332    -3.076115   \n",
       "50%               0.500000          0.500000     8.611432    -1.533992   \n",
       "75%               0.500000          0.500000     9.555581    -0.523380   \n",
       "max               1.000000          1.000000    14.399297     5.015726   \n",
       "\n",
       "               ret  \n",
       "count  2299.000000  \n",
       "mean      6.721317  \n",
       "std       2.597043  \n",
       "min      -3.534224  \n",
       "25%       5.190994  \n",
       "50%       7.026168  \n",
       "75%       8.532683  \n",
       "max      15.641258  \n",
       "\n",
       "[8 rows x 59 columns]"
      ]
     },
     "execution_count": 21,
     "metadata": {},
     "output_type": "execute_result"
    }
   ],
   "source": [
    "testx_ref.describe()"
   ]
  },
  {
   "cell_type": "code",
   "execution_count": 22,
   "id": "59f3bcb3",
   "metadata": {},
   "outputs": [],
   "source": [
    "testx_ref.drop(columns = ['Unnamed: 0'], inplace=True)"
   ]
  },
  {
   "cell_type": "code",
   "execution_count": 23,
   "id": "533a065f",
   "metadata": {},
   "outputs": [],
   "source": [
    "import tensorflow as tf\n",
    "tf.random.set_seed(42)"
   ]
  },
  {
   "cell_type": "code",
   "execution_count": 24,
   "id": "dd6f9641",
   "metadata": {},
   "outputs": [],
   "source": [
    "model = tf.keras.Sequential([\n",
    "    tf.keras.layers.Dense(128, activation='relu'),\n",
    "    tf.keras.layers.Dense(256, activation='relu'),\n",
    "    tf.keras.layers.Dense(256, activation='relu'),\n",
    "    tf.keras.layers.Dense(3, activation='sigmoid')\n",
    "])"
   ]
  },
  {
   "cell_type": "code",
   "execution_count": 25,
   "id": "49219c68",
   "metadata": {},
   "outputs": [
    {
     "name": "stderr",
     "output_type": "stream",
     "text": [
      "C:\\Users\\mssid\\anaconda3\\envs\\PET\\lib\\site-packages\\keras\\optimizers\\optimizer_v2\\adam.py:110: UserWarning: The `lr` argument is deprecated, use `learning_rate` instead.\n",
      "  super(Adam, self).__init__(name, **kwargs)\n"
     ]
    }
   ],
   "source": [
    "model.compile(\n",
    "    loss=tf.keras.losses.binary_crossentropy,\n",
    "    optimizer=tf.keras.optimizers.Adam(lr=0.01),\n",
    "    metrics=[\n",
    "        tf.keras.metrics.BinaryAccuracy(name='accuracy'),\n",
    "        tf.keras.metrics.Precision(name='precision'),\n",
    "        tf.keras.metrics.Recall(name='recall')\n",
    "    ]\n",
    ")"
   ]
  },
  {
   "cell_type": "code",
   "execution_count": 26,
   "id": "673355cd",
   "metadata": {},
   "outputs": [],
   "source": [
    "train_data = tf.convert_to_tensor(trainx_ref[trainx_ref.columns[:-3]])"
   ]
  },
  {
   "cell_type": "code",
   "execution_count": 27,
   "id": "44e87f9e",
   "metadata": {},
   "outputs": [],
   "source": [
    "train_labels = tf.convert_to_tensor(trainx_ref[trainx_ref.columns[-3:]])"
   ]
  },
  {
   "cell_type": "code",
   "execution_count": 28,
   "id": "9e55d5e3",
   "metadata": {},
   "outputs": [
    {
     "name": "stdout",
     "output_type": "stream",
     "text": [
      "(9199, 55) (9199, 3)\n"
     ]
    }
   ],
   "source": [
    "print(train_data.shape,train_labels.shape)"
   ]
  },
  {
   "cell_type": "code",
   "execution_count": 29,
   "id": "13028f6c",
   "metadata": {},
   "outputs": [
    {
     "name": "stdout",
     "output_type": "stream",
     "text": [
      "Epoch 1/10\n",
      "288/288 [==============================] - 2s 3ms/step - loss: 0.2781 - accuracy: 0.8744 - precision: 0.7845 - recall: 0.6866\n",
      "Epoch 2/10\n",
      "288/288 [==============================] - 1s 2ms/step - loss: 0.1602 - accuracy: 0.9319 - precision: 0.8694 - recall: 0.8563\n",
      "Epoch 3/10\n",
      "288/288 [==============================] - 1s 2ms/step - loss: 0.1407 - accuracy: 0.9397 - precision: 0.8845 - recall: 0.8731\n",
      "Epoch 4/10\n",
      "288/288 [==============================] - 1s 2ms/step - loss: 0.1266 - accuracy: 0.9456 - precision: 0.8941 - recall: 0.8878\n",
      "Epoch 5/10\n",
      "288/288 [==============================] - 1s 2ms/step - loss: 0.1242 - accuracy: 0.9450 - precision: 0.8944 - recall: 0.8846\n",
      "Epoch 6/10\n",
      "288/288 [==============================] - 1s 2ms/step - loss: 0.1097 - accuracy: 0.9541 - precision: 0.9105 - recall: 0.9056\n",
      "Epoch 7/10\n",
      "288/288 [==============================] - 1s 2ms/step - loss: 0.1021 - accuracy: 0.9550 - precision: 0.9112 - recall: 0.9085\n",
      "Epoch 8/10\n",
      "288/288 [==============================] - 1s 2ms/step - loss: 0.1079 - accuracy: 0.9542 - precision: 0.9111 - recall: 0.9053\n",
      "Epoch 9/10\n",
      "288/288 [==============================] - 1s 2ms/step - loss: 0.1064 - accuracy: 0.9555 - precision: 0.9166 - recall: 0.9044\n",
      "Epoch 10/10\n",
      "288/288 [==============================] - 1s 2ms/step - loss: 0.0876 - accuracy: 0.9627 - precision: 0.9259 - recall: 0.9250\n"
     ]
    }
   ],
   "source": [
    "history = model.fit(train_data,train_labels,epochs=10)"
   ]
  },
  {
   "cell_type": "code",
   "execution_count": 30,
   "id": "5080102a",
   "metadata": {},
   "outputs": [
    {
     "data": {
      "text/plain": [
       "[<matplotlib.lines.Line2D at 0x17f57b07910>]"
      ]
     },
     "execution_count": 30,
     "metadata": {},
     "output_type": "execute_result"
    },
    {
     "data": {
      "image/png": "[encoded data removed]",
      "text/plain": [
       "<Figure size 432x288 with 1 Axes>"
      ]
     },
     "metadata": {
      "needs_background": "light"
     },
     "output_type": "display_data"
    }
   ],
   "source": [
    "# plt.plot(history.history['loss'],label = 'loss')\n",
    "plt.plot(history.history['accuracy'],label = 'loss')"
   ]
  },
  {
   "cell_type": "code",
   "execution_count": 31,
   "id": "50e0d24e",
   "metadata": {},
   "outputs": [
    {
     "name": "stdout",
     "output_type": "stream",
     "text": [
      "72/72 [==============================] - 0s 1ms/step\n"
     ]
    }
   ],
   "source": [
    "test_labels_pred = model.predict(tf.convert_to_tensor(testx_ref[testx_ref.columns[:-3]]))"
   ]
  },
  {
   "cell_type": "code",
   "execution_count": 32,
   "id": "991441d5",
   "metadata": {},
   "outputs": [],
   "source": [
    "test_labels_pred = test_labels_pred.round()"
   ]
  },
  {
   "cell_type": "code",
   "execution_count": 33,
   "id": "a7a7d379",
   "metadata": {},
   "outputs": [],
   "source": [
    "testx_ref['fin_act'][testx_ref['fin_act'] < 9.17] = 0\n",
    "testx_ref['fin_act'][testx_ref['fin_act'] > 9.17] = 1\n",
    "testx_ref['fin_help'][testx_ref['fin_help'] > -1.15] = 1\n",
    "testx_ref['fin_help'][testx_ref['fin_help'] < -1.15] = 0\n",
    "testx_ref['ret'][testx_ref['ret'] < 8.4] = 0\n",
    "testx_ref['ret'][testx_ref['ret'] > 8.4] = 1"
   ]
  },
  {
   "cell_type": "code",
   "execution_count": 34,
   "id": "65a2513a",
   "metadata": {},
   "outputs": [
    {
     "name": "stdout",
     "output_type": "stream",
     "text": [
      "1528\n",
      "1376\n",
      "1668\n"
     ]
    }
   ],
   "source": [
    "print(testx_ref['fin_act'][testx_ref['fin_act'] == 0].shape[0])\n",
    "print(testx_ref['fin_help'][testx_ref['fin_help'] == 0].shape[0])\n",
    "print(testx_ref['ret'][testx_ref['ret'] == 0].shape[0])"
   ]
  },
  {
   "cell_type": "code",
   "execution_count": 35,
   "id": "333b2b1d",
   "metadata": {},
   "outputs": [
    {
     "name": "stdout",
     "output_type": "stream",
     "text": [
      "771\n",
      "923\n",
      "631\n"
     ]
    }
   ],
   "source": [
    "print(testx_ref['fin_act'][testx_ref['fin_act'] == 1].shape[0])\n",
    "print(testx_ref['fin_help'][testx_ref['fin_help'] == 1].shape[0])\n",
    "print(testx_ref['ret'][testx_ref['ret'] == 1].shape[0])"
   ]
  },
  {
   "cell_type": "code",
   "execution_count": 36,
   "id": "00f6e836",
   "metadata": {},
   "outputs": [
    {
     "name": "stdout",
     "output_type": "stream",
     "text": [
      "[[1526    2]\n",
      " [ 273  498]]\n",
      "[[1376    0]\n",
      " [ 249  674]]\n",
      "[[1668    0]\n",
      " [ 167  464]]\n"
     ]
    }
   ],
   "source": [
    "# Model prediction results\n",
    "print(confusion_matrix(np.array(testx_ref['fin_act']), test_labels_pred[:,0]))\n",
    "print(confusion_matrix(np.array(testx_ref['fin_help']), test_labels_pred[:,1]))\n",
    "print(confusion_matrix(np.array(testx_ref['ret']), test_labels_pred[:,2]))"
   ]
  },
  {
   "cell_type": "code",
   "execution_count": 37,
   "id": "8b3760ce",
   "metadata": {},
   "outputs": [
    {
     "name": "stdout",
     "output_type": "stream",
     "text": [
      "The accuracy for financial actions is:  0.8803827751196173\n",
      "The accuracy for financial help is:  0.8916920400173989\n",
      "The accuracy for return is:  0.9273597216180949\n"
     ]
    }
   ],
   "source": [
    "print(\"The accuracy for financial actions is: \", sklearn.metrics.accuracy_score(np.array(testx_ref['fin_act']), test_labels_pred[:,0]))\n",
    "print(\"The accuracy for financial help is: \", sklearn.metrics.accuracy_score(np.array(testx_ref['fin_help']), test_labels_pred[:,1]))\n",
    "print(\"The accuracy for return is: \", sklearn.metrics.accuracy_score(np.array(testx_ref['ret']), test_labels_pred[:,2]))"
   ]
  },
  {
   "cell_type": "code",
   "execution_count": 38,
   "id": "677098b2",
   "metadata": {},
   "outputs": [],
   "source": [
    "refugee_db = trainx_ref[['fin_act','fin_help','ret']]"
   ]
  },
  {
   "cell_type": "code",
   "execution_count": 39,
   "id": "d8cc7d1e",
   "metadata": {},
   "outputs": [
    {
     "name": "stderr",
     "output_type": "stream",
     "text": [
      "C:\\Users\\mssid\\AppData\\Local\\Temp\\ipykernel_13888\\2043953062.py:1: SettingWithCopyWarning: \n",
      "A value is trying to be set on a copy of a slice from a DataFrame.\n",
      "Try using .loc[row_indexer,col_indexer] = value instead\n",
      "\n",
      "See the caveats in the documentation: https://pandas.pydata.org/pandas-docs/stable/user_guide/indexing.html#returning-a-view-versus-a-copy\n",
      "  refugee_db['record'] = range(1,refugee_db.shape[0]+1)\n"
     ]
    }
   ],
   "source": [
    "refugee_db['record'] = range(1,refugee_db.shape[0]+1)"
   ]
  },
  {
   "cell_type": "code",
   "execution_count": 40,
   "id": "edc2e7e9",
   "metadata": {},
   "outputs": [
    {
     "name": "stderr",
     "output_type": "stream",
     "text": [
      "C:\\Users\\mssid\\anaconda3\\envs\\PET\\lib\\site-packages\\snsql\\sql\\reader\\pandas.py:80: SettingWithCopyWarning: \n",
      "A value is trying to be set on a copy of a slice from a DataFrame.\n",
      "Try using .loc[row_indexer,col_indexer] = value instead\n",
      "\n",
      "See the caveats in the documentation: https://pandas.pydata.org/pandas-docs/stable/user_guide/indexing.html#returning-a-view-versus-a-copy\n",
      "  self.df[sanitized_column_name] = self.df[column_name]\n",
      "C:\\Users\\mssid\\anaconda3\\envs\\PET\\lib\\site-packages\\snsql\\sql\\private_reader.py:119: UserWarning: Dimension censoring is enabled, with Mechanism.discrete_laplace as the thresholding mechanism. \n",
      "This is an unsafe floating point mechanism.  Counts used for censoring will be revealed in any queries that request COUNT DISTINCT(person), \n",
      "leading to potential privacy leaks. If your query workload needs to reveal distinct counts of individuals, consider doing the dimension\n",
      "censoring as a preprocessing step.  See the documentation for more information.\n",
      "  warnings.warn(\n"
     ]
    }
   ],
   "source": [
    "reader = snsql.from_df(refugee_db, privacy=privacy,metadata = 'trainx.yaml')"
   ]
  },
  {
   "cell_type": "code",
   "execution_count": 41,
   "id": "d052143d",
   "metadata": {},
   "outputs": [
    {
     "data": {
      "text/plain": [
       "[['???'], [1185], [1119]]"
      ]
     },
     "execution_count": 41,
     "metadata": {},
     "output_type": "execute_result"
    }
   ],
   "source": [
    "reader.execute('SELECT sum(fin_act) FROM train_data.train_labels group by ret')"
   ]
  },
  {
   "cell_type": "code",
   "execution_count": 42,
   "id": "f18d000d",
   "metadata": {},
   "outputs": [
    {
     "data": {
      "text/plain": [
       "[['???'], [2305]]"
      ]
     },
     "execution_count": 42,
     "metadata": {},
     "output_type": "execute_result"
    }
   ],
   "source": [
    "reader.execute('SELECT sum(fin_act) FROM train_data.train_labels')"
   ]
  },
  {
   "cell_type": "code",
   "execution_count": 43,
   "id": "e9f366c0",
   "metadata": {},
   "outputs": [
    {
     "name": "stderr",
     "output_type": "stream",
     "text": [
      "C:\\Users\\mssid\\AppData\\Local\\Temp\\ipykernel_13888\\1342617162.py:1: SettingWithCopyWarning: \n",
      "A value is trying to be set on a copy of a slice from a DataFrame\n",
      "\n",
      "See the caveats in the documentation: https://pandas.pydata.org/pandas-docs/stable/user_guide/indexing.html#returning-a-view-versus-a-copy\n",
      "  refugee_db.drop(columns = ['record'], inplace=True)\n"
     ]
    }
   ],
   "source": [
    "refugee_db.drop(columns = ['record'], inplace=True)"
   ]
  },
  {
   "cell_type": "code",
   "execution_count": 44,
   "id": "f54689f2",
   "metadata": {},
   "outputs": [],
   "source": [
    "synth = Synthesizer.create(\"mwem\", epsilon=8.0, verbose=True)"
   ]
  },
  {
   "cell_type": "code",
   "execution_count": 45,
   "id": "2f0cb2dc",
   "metadata": {},
   "outputs": [],
   "source": [
    "train_data = pd.concat([trainx_ref[trainx_ref.columns[:7]],trainx_ref[trainx_ref.columns[-3:]]],axis = 1)"
   ]
  },
  {
   "cell_type": "code",
   "execution_count": 46,
   "id": "7ea76ac7",
   "metadata": {},
   "outputs": [],
   "source": [
    "train_data['index'] = range(1,train_data.shape[0]+1)"
   ]
  },
  {
   "cell_type": "code",
   "execution_count": 70,
   "id": "e2f635d7",
   "metadata": {},
   "outputs": [
    {
     "name": "stdout",
     "output_type": "stream",
     "text": [
      "Spent 0.9999999999999998 epsilon on preprocessor, leaving 7.0 for training\n"
     ]
    },
    {
     "name": "stderr",
     "output_type": "stream",
     "text": [
      "C:\\Users\\mssid\\anaconda3\\envs\\PET\\lib\\site-packages\\snsynth\\mwem.py:570: UserWarning: Data should be preprocessed to have 0 based indices.\n",
      "  warnings.warn(\"Data should be preprocessed to have 0 based indices.\")\n"
     ]
    },
    {
     "name": "stdout",
     "output_type": "stream",
     "text": [
      "Processing 1 histograms\n",
      "\n",
      "Histogram #0 split: [0 1 2 3 4 5 6 7 8 9]\n",
      "Columns: 10\n",
      "Dimensionality: 1,486,848\n",
      "Cuboids possible: 1023\n",
      "1-2-way cuboids possible: 55\n",
      "Fitting for 40 iterations\n",
      "Number of queries: 80\n",
      "Number of slices in queries: 1457\n",
      "Per-Measure Epsilon: 0.087\n",
      "Measurement Error: 26.32\n",
      "\n",
      "[0] - Average error: 43.978. Selected 4 slices\n",
      "[1] - Average error: 40.871. Selected 4 slices\n",
      "[2] - Average error: 35.897. Selected 2 slices\n",
      "[3] - Average error: 30.424. Selected 2 slices\n",
      "[4] - Average error: 25.948. Selected 2 slices\n",
      "[5] - Average error: 21.420. Selected 4 slices\n",
      "[6] - Average error: 17.574. Selected 4 slices\n",
      "[7] - Average error: 12.367. Selected 6 slices\n",
      "[8] - Average error: 10.069. Selected 11 slices\n",
      "[9] - Average error: 8.278. Selected 4 slices\n",
      "[10] - Average error: 7.287. Selected 11 slices\n",
      "[11] - Average error: 5.717. Selected 4 slices\n",
      "[12] - Average error: 4.733. Selected 16 slices\n",
      "[13] - Average error: 4.046. Selected 8 slices\n",
      "[14] - Average error: 3.191. Selected 8 slices\n",
      "[15] - Average error: 2.496. Selected 16 slices\n",
      "[16] - Average error: 1.974. Selected 24 slices\n",
      "[17] - Average error: 1.636. Selected 8 slices\n",
      "[18] - Average error: 1.506. Selected 22 slices\n",
      "[19] - Average error: 1.393. Selected 22 slices\n",
      "[20] - Average error: 1.302. Selected 22 slices\n",
      "[21] - Average error: 1.230. Selected 22 slices\n",
      "[22] - Average error: 1.173. Selected 24 slices\n",
      "[23] - Average error: 1.103. Selected 44 slices\n",
      "[24] - Average error: 1.011. Selected 8 slices\n",
      "[25] - Average error: 0.912. Selected 44 slices\n",
      "[26] - Average error: 0.856. Selected 16 slices\n",
      "[27] - Average error: 0.763. Selected 12 slices\n",
      "[28] - Average error: 0.741. Selected 2 slices\n",
      "[29] - Average error: 0.714. Selected 22 slices\n",
      "[30] - Average error: 0.661. Selected 4 slices\n",
      "[31] - Average error: 0.599. Selected 44 slices\n",
      "[32] - Average error: 0.567. Selected 44 slices\n",
      "[33] - Average error: 0.535. Selected 8 slices\n",
      "[34] - Average error: 0.470. Selected 44 slices\n",
      "[35] - Average error: 0.441. Selected 16 slices\n",
      "[36] - Average error: 0.409. Selected 8 slices\n",
      "[37] - Average error: 0.387. Selected 66 slices\n",
      "[38] - Average error: 0.365. Selected 22 slices\n",
      "[39] - Average error: 0.352. Selected 8 slices\n",
      "      urban  hhsize  head_gender  s2_q10_mktcentre  s2_q19_floormat  \\\n",
      "0       0.5    0.05          1.1               0.5              0.5   \n",
      "1       0.5    0.25          0.5               0.5              0.3   \n",
      "2       0.5    0.25          0.5               0.5              0.3   \n",
      "3       0.5    0.35          1.1               1.1              1.1   \n",
      "4       0.5    0.35          0.5               0.5              0.5   \n",
      "...     ...     ...          ...               ...              ...   \n",
      "9194    0.5    0.35          1.1               1.1              0.5   \n",
      "9195    0.5    0.45          0.5               0.5              0.5   \n",
      "9196    0.5    0.25          1.1               0.5              0.1   \n",
      "9197    1.1    0.35          1.1               1.1              0.3   \n",
      "9198    0.5    1.05          0.5               1.1              0.5   \n",
      "\n",
      "      s2_q20_wallmat  s2_q21a_powergrid  fin_act  fin_help  ret  \n",
      "0               0.45                0.5      0.0       1.0  0.0  \n",
      "1               0.65                0.5      0.0       0.0  0.0  \n",
      "2               0.45                1.1      1.0       0.0  0.0  \n",
      "3               0.45                1.1      1.0       1.0  1.0  \n",
      "4               0.45                0.5      0.0       0.0  0.0  \n",
      "...              ...                ...      ...       ...  ...  \n",
      "9194            0.45                0.5      0.0       0.0  0.0  \n",
      "9195            0.95                0.5      1.0       0.0  0.0  \n",
      "9196            0.45                1.1      1.0       0.0  0.0  \n",
      "9197            0.65                1.1      0.0       1.0  0.0  \n",
      "9198            0.45                0.5      0.0       1.0  0.0  \n",
      "\n",
      "[9199 rows x 10 columns]\n"
     ]
    }
   ],
   "source": [
    "# Run this only when you want to generate the synthetic data and it takes around 2-3hrs\n",
    "trainx_synth = synth.fit_sample(train_data, preprocessor_eps = 1)\n",
    "print(trainx_synth)"
   ]
  },
  {
   "cell_type": "code",
   "execution_count": 48,
   "id": "3a1e6c6c",
   "metadata": {},
   "outputs": [],
   "source": [
    "train_synth = pd.read_csv('train_synth.csv')"
   ]
  },
  {
   "cell_type": "code",
   "execution_count": 54,
   "id": "e70fe967",
   "metadata": {},
   "outputs": [],
   "source": [
    "model_new = tf.keras.Sequential([\n",
    "    tf.keras.layers.Dense(128, activation='relu'),\n",
    "    tf.keras.layers.Dense(256, activation='relu'),\n",
    "    tf.keras.layers.Dense(256, activation='relu'),\n",
    "    tf.keras.layers.Dense(3, activation='sigmoid')\n",
    "])"
   ]
  },
  {
   "cell_type": "code",
   "execution_count": 55,
   "id": "c2943ad2",
   "metadata": {},
   "outputs": [],
   "source": [
    "model_new.compile(\n",
    "    loss=tf.keras.losses.binary_crossentropy,\n",
    "    optimizer=tf.keras.optimizers.Adam(learning_rate=0.01),\n",
    "    metrics=[\n",
    "        tf.keras.metrics.BinaryAccuracy(name='accuracy'),\n",
    "        tf.keras.metrics.Precision(name='precision'),\n",
    "        tf.keras.metrics.Recall(name='recall')\n",
    "    ]\n",
    ")"
   ]
  },
  {
   "cell_type": "code",
   "execution_count": 50,
   "id": "d4b651dc",
   "metadata": {},
   "outputs": [
    {
     "name": "stdout",
     "output_type": "stream",
     "text": [
      "Epoch 1/10\n",
      "288/288 [==============================] - 1s 1ms/step - loss: 0.5164 - accuracy: 0.7539 - precision: 0.5126 - recall: 0.1308\n",
      "Epoch 2/10\n",
      "288/288 [==============================] - 0s 1ms/step - loss: 0.5024 - accuracy: 0.7628 - precision: 0.5614 - recall: 0.1945\n",
      "Epoch 3/10\n",
      "288/288 [==============================] - 0s 1ms/step - loss: 0.4965 - accuracy: 0.7656 - precision: 0.5584 - recall: 0.2565\n",
      "Epoch 4/10\n",
      "288/288 [==============================] - 0s 1ms/step - loss: 0.4984 - accuracy: 0.7637 - precision: 0.5525 - recall: 0.2440\n",
      "Epoch 5/10\n",
      "288/288 [==============================] - 0s 1ms/step - loss: 0.4950 - accuracy: 0.7664 - precision: 0.5644 - recall: 0.2494\n",
      "Epoch 6/10\n",
      "288/288 [==============================] - 0s 1ms/step - loss: 0.4940 - accuracy: 0.7664 - precision: 0.5637 - recall: 0.2517\n",
      "Epoch 7/10\n",
      "288/288 [==============================] - 0s 1ms/step - loss: 0.4927 - accuracy: 0.7692 - precision: 0.5734 - recall: 0.2672\n",
      "Epoch 8/10\n",
      "288/288 [==============================] - 0s 1ms/step - loss: 0.4931 - accuracy: 0.7652 - precision: 0.5600 - recall: 0.2429\n",
      "Epoch 9/10\n",
      "288/288 [==============================] - 0s 1ms/step - loss: 0.4906 - accuracy: 0.7694 - precision: 0.5774 - recall: 0.2580\n",
      "Epoch 10/10\n",
      "288/288 [==============================] - 0s 1ms/step - loss: 0.4914 - accuracy: 0.7704 - precision: 0.5763 - recall: 0.2772\n"
     ]
    }
   ],
   "source": [
    "history = model_new.fit(tf.convert_to_tensor(train_synth.iloc[:,1:8]),tf.convert_to_tensor(train_synth.iloc[:,-3:]),epochs=10)"
   ]
  },
  {
   "cell_type": "code",
   "execution_count": 51,
   "id": "f211fb27",
   "metadata": {},
   "outputs": [
    {
     "name": "stdout",
     "output_type": "stream",
     "text": [
      "Epoch 1/10\n",
      "288/288 [==============================] - 0s 1ms/step - loss: 0.4936 - accuracy: 0.7652 - precision: 0.5989 - recall: 0.1864\n",
      "Epoch 2/10\n",
      "288/288 [==============================] - 0s 1ms/step - loss: 0.4695 - accuracy: 0.7773 - precision: 0.6154 - recall: 0.2927\n",
      "Epoch 3/10\n",
      "288/288 [==============================] - 0s 1ms/step - loss: 0.4653 - accuracy: 0.7794 - precision: 0.6252 - recall: 0.2954\n",
      "Epoch 4/10\n",
      "288/288 [==============================] - 0s 1ms/step - loss: 0.4633 - accuracy: 0.7807 - precision: 0.6328 - recall: 0.2947\n",
      "Epoch 5/10\n",
      "288/288 [==============================] - 0s 1ms/step - loss: 0.4623 - accuracy: 0.7815 - precision: 0.6418 - recall: 0.2865\n",
      "Epoch 6/10\n",
      "288/288 [==============================] - 0s 1ms/step - loss: 0.4604 - accuracy: 0.7815 - precision: 0.6363 - recall: 0.2959\n",
      "Epoch 7/10\n",
      "288/288 [==============================] - 0s 1ms/step - loss: 0.4607 - accuracy: 0.7829 - precision: 0.6487 - recall: 0.2883\n",
      "Epoch 8/10\n",
      "288/288 [==============================] - 0s 1ms/step - loss: 0.4572 - accuracy: 0.7844 - precision: 0.6449 - recall: 0.3075\n",
      "Epoch 9/10\n",
      "288/288 [==============================] - 0s 2ms/step - loss: 0.4568 - accuracy: 0.7827 - precision: 0.6437 - recall: 0.2941\n",
      "Epoch 10/10\n",
      "288/288 [==============================] - 0s 1ms/step - loss: 0.4544 - accuracy: 0.7856 - precision: 0.6536 - recall: 0.3047\n"
     ]
    }
   ],
   "source": [
    "history = model_new.fit(tf.convert_to_tensor(trainx_ref.iloc[:,1:8]),tf.convert_to_tensor(trainx_ref.iloc[:,-3:]),epochs=10)"
   ]
  },
  {
   "cell_type": "markdown",
   "id": "306d276c",
   "metadata": {},
   "source": [
    "# As we see that the synthetic data generation takes lot of time, let's select the most important features."
   ]
  },
  {
   "cell_type": "code",
   "execution_count": 47,
   "id": "dd065fed",
   "metadata": {},
   "outputs": [],
   "source": [
    "from sklearn.feature_selection import SelectKBest, chi2"
   ]
  },
  {
   "cell_type": "code",
   "execution_count": 48,
   "id": "c9d7ac3a",
   "metadata": {},
   "outputs": [],
   "source": [
    "feature_sel = SelectKBest(score_func=chi2, k=7)"
   ]
  },
  {
   "cell_type": "code",
   "execution_count": 49,
   "id": "42fe00ad",
   "metadata": {},
   "outputs": [],
   "source": [
    "feature_in = list(trainx_ref.columns[:55])"
   ]
  },
  {
   "cell_type": "code",
   "execution_count": 50,
   "id": "45052309",
   "metadata": {},
   "outputs": [],
   "source": [
    "train_new = feature_sel.fit_transform(trainx_ref.iloc[:,:55], trainx_ref.iloc[:,-3:])"
   ]
  },
  {
   "cell_type": "code",
   "execution_count": 51,
   "id": "052e9e2d",
   "metadata": {},
   "outputs": [],
   "source": [
    "impor_feat = feature_sel.get_feature_names_out(feature_in)"
   ]
  },
  {
   "cell_type": "code",
   "execution_count": 52,
   "id": "15718d02",
   "metadata": {},
   "outputs": [
    {
     "data": {
      "text/plain": [
       "array(['hhsize', 's2_q21a_powergrid', 's3_q5a_attendchurch',\n",
       "       's3_q7_visitother', 's5_q39a_hungryadult', 's5_q40a_skippedadult',\n",
       "       's5_q40b_skippedchild'], dtype=object)"
      ]
     },
     "execution_count": 52,
     "metadata": {},
     "output_type": "execute_result"
    }
   ],
   "source": [
    "impor_feat"
   ]
  },
  {
   "cell_type": "code",
   "execution_count": 56,
   "id": "c2498729",
   "metadata": {},
   "outputs": [
    {
     "name": "stdout",
     "output_type": "stream",
     "text": [
      "Epoch 1/50\n",
      "288/288 [==============================] - 2s 2ms/step - loss: 0.4021 - accuracy: 0.8060 - precision: 0.6461 - recall: 0.4969\n",
      "Epoch 2/50\n",
      "288/288 [==============================] - 1s 2ms/step - loss: 0.3830 - accuracy: 0.8177 - precision: 0.6708 - recall: 0.5332\n",
      "Epoch 3/50\n",
      "288/288 [==============================] - 1s 2ms/step - loss: 0.3788 - accuracy: 0.8195 - precision: 0.6712 - recall: 0.5458\n",
      "Epoch 4/50\n",
      "288/288 [==============================] - 1s 2ms/step - loss: 0.3747 - accuracy: 0.8195 - precision: 0.6752 - recall: 0.5367\n",
      "Epoch 5/50\n",
      "288/288 [==============================] - 1s 2ms/step - loss: 0.3732 - accuracy: 0.8234 - precision: 0.6878 - recall: 0.5386\n",
      "Epoch 6/50\n",
      "288/288 [==============================] - 1s 2ms/step - loss: 0.3726 - accuracy: 0.8220 - precision: 0.6865 - recall: 0.5312\n",
      "Epoch 7/50\n",
      "288/288 [==============================] - 1s 2ms/step - loss: 0.3690 - accuracy: 0.8227 - precision: 0.6894 - recall: 0.5301\n",
      "Epoch 8/50\n",
      "288/288 [==============================] - 1s 2ms/step - loss: 0.3698 - accuracy: 0.8229 - precision: 0.6883 - recall: 0.5340\n",
      "Epoch 9/50\n",
      "288/288 [==============================] - 1s 2ms/step - loss: 0.3687 - accuracy: 0.8230 - precision: 0.6902 - recall: 0.5311\n",
      "Epoch 10/50\n",
      "288/288 [==============================] - 1s 2ms/step - loss: 0.3666 - accuracy: 0.8241 - precision: 0.6863 - recall: 0.5473\n",
      "Epoch 11/50\n",
      "288/288 [==============================] - 1s 2ms/step - loss: 0.3663 - accuracy: 0.8262 - precision: 0.6951 - recall: 0.5438\n",
      "Epoch 12/50\n",
      "288/288 [==============================] - 1s 2ms/step - loss: 0.3665 - accuracy: 0.8249 - precision: 0.6980 - recall: 0.5292\n",
      "Epoch 13/50\n",
      "288/288 [==============================] - 1s 2ms/step - loss: 0.3638 - accuracy: 0.8256 - precision: 0.7009 - recall: 0.5282\n",
      "Epoch 14/50\n",
      "288/288 [==============================] - 0s 2ms/step - loss: 0.3641 - accuracy: 0.8257 - precision: 0.7018 - recall: 0.5276\n",
      "Epoch 15/50\n",
      "288/288 [==============================] - 1s 2ms/step - loss: 0.3662 - accuracy: 0.8263 - precision: 0.7016 - recall: 0.5319\n",
      "Epoch 16/50\n",
      "288/288 [==============================] - 1s 2ms/step - loss: 0.3640 - accuracy: 0.8255 - precision: 0.6957 - recall: 0.5376\n",
      "Epoch 17/50\n",
      "288/288 [==============================] - 0s 2ms/step - loss: 0.3645 - accuracy: 0.8259 - precision: 0.6958 - recall: 0.5402\n",
      "Epoch 18/50\n",
      "288/288 [==============================] - 1s 2ms/step - loss: 0.3644 - accuracy: 0.8259 - precision: 0.7036 - recall: 0.5254\n",
      "Epoch 19/50\n",
      "288/288 [==============================] - 1s 2ms/step - loss: 0.3638 - accuracy: 0.8273 - precision: 0.6991 - recall: 0.5435\n",
      "Epoch 20/50\n",
      "288/288 [==============================] - 1s 2ms/step - loss: 0.3637 - accuracy: 0.8274 - precision: 0.7008 - recall: 0.5411\n",
      "Epoch 21/50\n",
      "288/288 [==============================] - 1s 2ms/step - loss: 0.3640 - accuracy: 0.8266 - precision: 0.6976 - recall: 0.5418\n",
      "Epoch 22/50\n",
      "288/288 [==============================] - 1s 2ms/step - loss: 0.3630 - accuracy: 0.8251 - precision: 0.6944 - recall: 0.5376\n",
      "Epoch 23/50\n",
      "288/288 [==============================] - 1s 2ms/step - loss: 0.3630 - accuracy: 0.8269 - precision: 0.6967 - recall: 0.5457\n",
      "Epoch 24/50\n",
      "288/288 [==============================] - 1s 2ms/step - loss: 0.3617 - accuracy: 0.8260 - precision: 0.7020 - recall: 0.5289\n",
      "Epoch 25/50\n",
      "288/288 [==============================] - 1s 2ms/step - loss: 0.3627 - accuracy: 0.8260 - precision: 0.6942 - recall: 0.5445\n",
      "Epoch 26/50\n",
      "288/288 [==============================] - 1s 2ms/step - loss: 0.3611 - accuracy: 0.8263 - precision: 0.7005 - recall: 0.5343\n",
      "Epoch 27/50\n",
      "288/288 [==============================] - 1s 2ms/step - loss: 0.3615 - accuracy: 0.8253 - precision: 0.6981 - recall: 0.5321\n",
      "Epoch 28/50\n",
      "288/288 [==============================] - 1s 2ms/step - loss: 0.3618 - accuracy: 0.8257 - precision: 0.6957 - recall: 0.5395\n",
      "Epoch 29/50\n",
      "288/288 [==============================] - 0s 2ms/step - loss: 0.3617 - accuracy: 0.8265 - precision: 0.6984 - recall: 0.5396\n",
      "Epoch 30/50\n",
      "288/288 [==============================] - 1s 2ms/step - loss: 0.3616 - accuracy: 0.8267 - precision: 0.6979 - recall: 0.5419\n",
      "Epoch 31/50\n",
      "288/288 [==============================] - 0s 2ms/step - loss: 0.3603 - accuracy: 0.8274 - precision: 0.6978 - recall: 0.5470\n",
      "Epoch 32/50\n",
      "288/288 [==============================] - 1s 2ms/step - loss: 0.3598 - accuracy: 0.8266 - precision: 0.6911 - recall: 0.5548\n",
      "Epoch 33/50\n",
      "288/288 [==============================] - 0s 2ms/step - loss: 0.3594 - accuracy: 0.8297 - precision: 0.6971 - recall: 0.5645\n",
      "Epoch 34/50\n",
      "288/288 [==============================] - 1s 2ms/step - loss: 0.3601 - accuracy: 0.8269 - precision: 0.6940 - recall: 0.5515\n",
      "Epoch 35/50\n",
      "288/288 [==============================] - 1s 2ms/step - loss: 0.3594 - accuracy: 0.8272 - precision: 0.6881 - recall: 0.5661\n",
      "Epoch 36/50\n",
      "288/288 [==============================] - 0s 2ms/step - loss: 0.3607 - accuracy: 0.8262 - precision: 0.6956 - recall: 0.5434\n",
      "Epoch 37/50\n",
      "288/288 [==============================] - 0s 2ms/step - loss: 0.3607 - accuracy: 0.8282 - precision: 0.6967 - recall: 0.5551\n",
      "Epoch 38/50\n",
      "288/288 [==============================] - 1s 2ms/step - loss: 0.3589 - accuracy: 0.8284 - precision: 0.7008 - recall: 0.5479\n",
      "Epoch 39/50\n",
      "288/288 [==============================] - 0s 2ms/step - loss: 0.3605 - accuracy: 0.8278 - precision: 0.7055 - recall: 0.5350\n",
      "Epoch 40/50\n",
      "288/288 [==============================] - 0s 2ms/step - loss: 0.3594 - accuracy: 0.8266 - precision: 0.6924 - recall: 0.5526\n",
      "Epoch 41/50\n",
      "288/288 [==============================] - 1s 2ms/step - loss: 0.3591 - accuracy: 0.8268 - precision: 0.6931 - recall: 0.5524\n",
      "Epoch 42/50\n",
      "288/288 [==============================] - 1s 2ms/step - loss: 0.3595 - accuracy: 0.8276 - precision: 0.6996 - recall: 0.5453\n",
      "Epoch 43/50\n",
      "288/288 [==============================] - 1s 2ms/step - loss: 0.3590 - accuracy: 0.8302 - precision: 0.7076 - recall: 0.5474\n",
      "Epoch 44/50\n",
      "288/288 [==============================] - 0s 2ms/step - loss: 0.3585 - accuracy: 0.8275 - precision: 0.6968 - recall: 0.5500\n",
      "Epoch 45/50\n",
      "288/288 [==============================] - 1s 2ms/step - loss: 0.3602 - accuracy: 0.8267 - precision: 0.7015 - recall: 0.5351\n",
      "Epoch 46/50\n",
      "288/288 [==============================] - 0s 2ms/step - loss: 0.3582 - accuracy: 0.8290 - precision: 0.6987 - recall: 0.5566\n",
      "Epoch 47/50\n",
      "288/288 [==============================] - 0s 2ms/step - loss: 0.3577 - accuracy: 0.8294 - precision: 0.7013 - recall: 0.5545\n",
      "Epoch 48/50\n",
      "288/288 [==============================] - 0s 2ms/step - loss: 0.3579 - accuracy: 0.8293 - precision: 0.7003 - recall: 0.5555\n",
      "Epoch 49/50\n",
      "288/288 [==============================] - 1s 2ms/step - loss: 0.3591 - accuracy: 0.8273 - precision: 0.6906 - recall: 0.5615\n",
      "Epoch 50/50\n",
      "288/288 [==============================] - 1s 2ms/step - loss: 0.3579 - accuracy: 0.8299 - precision: 0.7012 - recall: 0.5581\n"
     ]
    }
   ],
   "source": [
    "history = model_new.fit(tf.convert_to_tensor(trainx_ref[impor_feat]),tf.convert_to_tensor(trainx_ref.iloc[:,-3:]),epochs=50)"
   ]
  },
  {
   "cell_type": "code",
   "execution_count": 57,
   "id": "c66a1238",
   "metadata": {},
   "outputs": [
    {
     "data": {
      "image/png": "[encoded data removed]",
      "text/plain": [
       "<Figure size 432x288 with 1 Axes>"
      ]
     },
     "metadata": {
      "needs_background": "light"
     },
     "output_type": "display_data"
    }
   ],
   "source": [
    "orig_acc = history.history['accuracy'] \n",
    "plt.plot(orig_acc,label = 'loss')\n",
    "plt.grid()"
   ]
  },
  {
   "cell_type": "markdown",
   "id": "e96bc730",
   "metadata": {},
   "source": [
    "# Generate synthetic data with the important features"
   ]
  },
  {
   "cell_type": "code",
   "execution_count": 102,
   "id": "ccfb5d92",
   "metadata": {},
   "outputs": [
    {
     "name": "stdout",
     "output_type": "stream",
     "text": [
      "Spent 5.0 epsilon on preprocessor, leaving 25.0 for training\n"
     ]
    },
    {
     "name": "stderr",
     "output_type": "stream",
     "text": [
      "C:\\Users\\mssid\\anaconda3\\envs\\PET\\lib\\site-packages\\snsynth\\mwem.py:570: UserWarning: Data should be preprocessed to have 0 based indices.\n",
      "  warnings.warn(\"Data should be preprocessed to have 0 based indices.\")\n"
     ]
    },
    {
     "name": "stdout",
     "output_type": "stream",
     "text": [
      "Processing 1 histograms\n",
      "\n",
      "Histogram #0 split: [0 1 2 3 4 5 6 7 8 9]\n",
      "Columns: 10\n",
      "Dimensionality: 829,440\n",
      "Cuboids possible: 1023\n",
      "1-2-way cuboids possible: 55\n",
      "Fitting for 40 iterations\n",
      "Number of queries: 80\n",
      "Number of slices in queries: 1248\n",
      "Per-Measure Epsilon: 0.312\n",
      "Measurement Error: 7.37\n",
      "\n",
      "[0] - Average error: 150.353. Selected 4 slices\n",
      "[1] - Average error: 135.469. Selected 2 slices\n",
      "[2] - Average error: 119.703. Selected 2 slices\n",
      "[3] - Average error: 103.773. Selected 4 slices\n",
      "[4] - Average error: 91.259. Selected 2 slices\n",
      "[5] - Average error: 78.094. Selected 6 slices\n",
      "[6] - Average error: 69.668. Selected 6 slices\n",
      "[7] - Average error: 56.727. Selected 6 slices\n",
      "[8] - Average error: 45.319. Selected 5 slices\n",
      "[9] - Average error: 35.031. Selected 6 slices\n",
      "[10] - Average error: 22.553. Selected 4 slices\n",
      "[11] - Average error: 18.692. Selected 4 slices\n",
      "[12] - Average error: 15.987. Selected 8 slices\n",
      "[13] - Average error: 14.041. Selected 8 slices\n",
      "[14] - Average error: 12.007. Selected 10 slices\n",
      "[15] - Average error: 10.909. Selected 10 slices\n",
      "[16] - Average error: 10.208. Selected 12 slices\n",
      "[17] - Average error: 10.070. Selected 8 slices\n",
      "[18] - Average error: 9.032. Selected 12 slices\n",
      "[19] - Average error: 8.928. Selected 8 slices\n",
      "[20] - Average error: 7.551. Selected 12 slices\n",
      "[21] - Average error: 7.123. Selected 12 slices\n",
      "[22] - Average error: 6.186. Selected 36 slices\n",
      "[23] - Average error: 6.029. Selected 12 slices\n",
      "[24] - Average error: 5.375. Selected 30 slices\n",
      "[25] - Average error: 4.901. Selected 12 slices\n",
      "[26] - Average error: 4.299. Selected 30 slices\n",
      "[27] - Average error: 3.853. Selected 12 slices\n",
      "[28] - Average error: 3.506. Selected 4 slices\n",
      "[29] - Average error: 3.152. Selected 20 slices\n",
      "[30] - Average error: 2.904. Selected 12 slices\n",
      "[31] - Average error: 2.771. Selected 10 slices\n",
      "[32] - Average error: 2.496. Selected 20 slices\n",
      "[33] - Average error: 2.227. Selected 12 slices\n",
      "[34] - Average error: 2.261. Selected 36 slices\n",
      "[35] - Average error: 2.234. Selected 24 slices\n",
      "[36] - Average error: 1.977. Selected 12 slices\n",
      "[37] - Average error: 1.860. Selected 16 slices\n",
      "[38] - Average error: 1.626. Selected 24 slices\n",
      "[39] - Average error: 1.529. Selected 24 slices\n"
     ]
    }
   ],
   "source": [
    "synth = Synthesizer.create(\"mwem\", epsilon=30.0, verbose=True)\n",
    "train_data = pd.concat([trainx_ref[impor_feat],trainx_ref[trainx_ref.columns[-3:]]],axis = 1)\n",
    "# train_data['index'] = range(1,train_data.shape[0]+1)\n",
    "trainx_synth = synth.fit_sample(train_data, preprocessor_eps = 5)"
   ]
  },
  {
   "cell_type": "code",
   "execution_count": 104,
   "id": "609d97aa",
   "metadata": {},
   "outputs": [],
   "source": [
    "trainx_synth.to_csv('train_synth_impor_feats.csv')"
   ]
  },
  {
   "cell_type": "code",
   "execution_count": 58,
   "id": "3516aace",
   "metadata": {},
   "outputs": [],
   "source": [
    "train_synth = pd.read_csv('train_synth_impor_feats.csv')"
   ]
  },
  {
   "cell_type": "code",
   "execution_count": 59,
   "id": "627a84c7",
   "metadata": {},
   "outputs": [],
   "source": [
    "train_synth.drop(columns=['Unnamed: 0'],inplace=True)"
   ]
  },
  {
   "cell_type": "code",
   "execution_count": 60,
   "id": "1f07e2df",
   "metadata": {},
   "outputs": [],
   "source": [
    "model_new = tf.keras.Sequential([\n",
    "    tf.keras.layers.Dense(128, activation='relu'),\n",
    "    tf.keras.layers.Dense(256, activation='relu'),\n",
    "    tf.keras.layers.Dense(256, activation='relu'),\n",
    "    tf.keras.layers.Dense(3, activation='sigmoid')\n",
    "])\n",
    "\n",
    "model_new.compile(\n",
    "    loss=tf.keras.losses.binary_crossentropy,\n",
    "    optimizer=tf.keras.optimizers.Adam(learning_rate=0.01),\n",
    "    metrics=[\n",
    "        tf.keras.metrics.BinaryAccuracy(name='accuracy'),\n",
    "        tf.keras.metrics.Precision(name='precision'),\n",
    "        tf.keras.metrics.Recall(name='recall')\n",
    "    ]\n",
    ")"
   ]
  },
  {
   "cell_type": "code",
   "execution_count": 61,
   "id": "f5d5dc3f",
   "metadata": {},
   "outputs": [
    {
     "name": "stdout",
     "output_type": "stream",
     "text": [
      "Epoch 1/50\n",
      "288/288 [==============================] - 2s 2ms/step - loss: 0.4346 - accuracy: 0.7963 - precision: 0.6452 - recall: 0.3943\n",
      "Epoch 2/50\n",
      "288/288 [==============================] - 1s 2ms/step - loss: 0.4133 - accuracy: 0.8064 - precision: 0.6557 - recall: 0.4600\n",
      "Epoch 3/50\n",
      "288/288 [==============================] - 1s 2ms/step - loss: 0.4093 - accuracy: 0.8072 - precision: 0.6622 - recall: 0.4524\n",
      "Epoch 4/50\n",
      "288/288 [==============================] - 1s 2ms/step - loss: 0.4100 - accuracy: 0.8075 - precision: 0.6615 - recall: 0.4563\n",
      "Epoch 5/50\n",
      "288/288 [==============================] - 1s 2ms/step - loss: 0.4065 - accuracy: 0.8079 - precision: 0.6589 - recall: 0.4650\n",
      "Epoch 6/50\n",
      "288/288 [==============================] - 1s 2ms/step - loss: 0.4050 - accuracy: 0.8114 - precision: 0.6680 - recall: 0.4740\n",
      "Epoch 7/50\n",
      "288/288 [==============================] - 1s 2ms/step - loss: 0.4068 - accuracy: 0.8109 - precision: 0.6750 - recall: 0.4563\n",
      "Epoch 8/50\n",
      "288/288 [==============================] - 1s 2ms/step - loss: 0.4026 - accuracy: 0.8108 - precision: 0.6678 - recall: 0.4696\n",
      "Epoch 9/50\n",
      "288/288 [==============================] - 1s 2ms/step - loss: 0.4044 - accuracy: 0.8105 - precision: 0.6733 - recall: 0.4559\n",
      "Epoch 10/50\n",
      "288/288 [==============================] - 1s 2ms/step - loss: 0.4028 - accuracy: 0.8109 - precision: 0.6764 - recall: 0.4533\n",
      "Epoch 11/50\n",
      "288/288 [==============================] - 1s 2ms/step - loss: 0.4035 - accuracy: 0.8118 - precision: 0.6798 - recall: 0.4535\n",
      "Epoch 12/50\n",
      "288/288 [==============================] - 1s 2ms/step - loss: 0.4021 - accuracy: 0.8121 - precision: 0.6769 - recall: 0.4619\n",
      "Epoch 13/50\n",
      "288/288 [==============================] - 1s 2ms/step - loss: 0.3998 - accuracy: 0.8133 - precision: 0.6801 - recall: 0.4653\n",
      "Epoch 14/50\n",
      "288/288 [==============================] - 0s 2ms/step - loss: 0.3999 - accuracy: 0.8133 - precision: 0.6811 - recall: 0.4628\n",
      "Epoch 15/50\n",
      "288/288 [==============================] - 1s 2ms/step - loss: 0.4013 - accuracy: 0.8137 - precision: 0.6875 - recall: 0.4541\n",
      "Epoch 16/50\n",
      "288/288 [==============================] - 1s 2ms/step - loss: 0.3987 - accuracy: 0.8134 - precision: 0.6851 - recall: 0.4562\n",
      "Epoch 17/50\n",
      "288/288 [==============================] - 1s 2ms/step - loss: 0.3999 - accuracy: 0.8124 - precision: 0.6812 - recall: 0.4562\n",
      "Epoch 18/50\n",
      "288/288 [==============================] - 0s 2ms/step - loss: 0.3975 - accuracy: 0.8157 - precision: 0.6941 - recall: 0.4578\n",
      "Epoch 19/50\n",
      "288/288 [==============================] - 1s 2ms/step - loss: 0.3972 - accuracy: 0.8137 - precision: 0.6865 - recall: 0.4562\n",
      "Epoch 20/50\n",
      "288/288 [==============================] - 1s 2ms/step - loss: 0.3985 - accuracy: 0.8157 - precision: 0.6917 - recall: 0.4614\n",
      "Epoch 21/50\n",
      "288/288 [==============================] - 1s 2ms/step - loss: 0.3977 - accuracy: 0.8152 - precision: 0.6902 - recall: 0.4606\n",
      "Epoch 22/50\n",
      "288/288 [==============================] - 0s 2ms/step - loss: 0.3964 - accuracy: 0.8151 - precision: 0.6926 - recall: 0.4553\n",
      "Epoch 23/50\n",
      "288/288 [==============================] - 0s 2ms/step - loss: 0.3960 - accuracy: 0.8157 - precision: 0.6965 - recall: 0.4538\n",
      "Epoch 24/50\n",
      "288/288 [==============================] - 0s 2ms/step - loss: 0.3962 - accuracy: 0.8163 - precision: 0.6898 - recall: 0.4692\n",
      "Epoch 25/50\n",
      "288/288 [==============================] - 0s 2ms/step - loss: 0.3952 - accuracy: 0.8159 - precision: 0.6931 - recall: 0.4606\n",
      "Epoch 26/50\n",
      "288/288 [==============================] - 0s 2ms/step - loss: 0.3966 - accuracy: 0.8144 - precision: 0.6912 - recall: 0.4527\n",
      "Epoch 27/50\n",
      "288/288 [==============================] - 0s 2ms/step - loss: 0.3958 - accuracy: 0.8157 - precision: 0.6981 - recall: 0.4506\n",
      "Epoch 28/50\n",
      "288/288 [==============================] - 0s 2ms/step - loss: 0.3945 - accuracy: 0.8174 - precision: 0.7068 - recall: 0.4493\n",
      "Epoch 29/50\n",
      "288/288 [==============================] - 0s 2ms/step - loss: 0.3958 - accuracy: 0.8129 - precision: 0.6769 - recall: 0.4680\n",
      "Epoch 30/50\n",
      "288/288 [==============================] - 0s 2ms/step - loss: 0.3943 - accuracy: 0.8156 - precision: 0.6978 - recall: 0.4506\n",
      "Epoch 31/50\n",
      "288/288 [==============================] - 0s 2ms/step - loss: 0.3957 - accuracy: 0.8156 - precision: 0.6900 - recall: 0.4636\n",
      "Epoch 32/50\n",
      "288/288 [==============================] - 0s 2ms/step - loss: 0.3940 - accuracy: 0.8157 - precision: 0.6882 - recall: 0.4679\n",
      "Epoch 33/50\n",
      "288/288 [==============================] - 0s 2ms/step - loss: 0.3957 - accuracy: 0.8157 - precision: 0.6969 - recall: 0.4531\n",
      "Epoch 34/50\n",
      "288/288 [==============================] - 0s 2ms/step - loss: 0.3949 - accuracy: 0.8157 - precision: 0.6919 - recall: 0.4610\n",
      "Epoch 35/50\n",
      "288/288 [==============================] - 0s 2ms/step - loss: 0.3934 - accuracy: 0.8159 - precision: 0.6982 - recall: 0.4522\n",
      "Epoch 36/50\n",
      "288/288 [==============================] - 0s 2ms/step - loss: 0.3944 - accuracy: 0.8151 - precision: 0.6954 - recall: 0.4512\n",
      "Epoch 37/50\n",
      "288/288 [==============================] - 0s 2ms/step - loss: 0.3944 - accuracy: 0.8152 - precision: 0.6887 - recall: 0.4632\n",
      "Epoch 38/50\n",
      "288/288 [==============================] - 0s 2ms/step - loss: 0.3947 - accuracy: 0.8168 - precision: 0.6972 - recall: 0.4601\n",
      "Epoch 39/50\n",
      "288/288 [==============================] - 1s 2ms/step - loss: 0.3938 - accuracy: 0.8164 - precision: 0.6910 - recall: 0.4682\n",
      "Epoch 40/50\n",
      "288/288 [==============================] - 0s 2ms/step - loss: 0.3944 - accuracy: 0.8159 - precision: 0.6918 - recall: 0.4631\n",
      "Epoch 41/50\n",
      "288/288 [==============================] - 0s 2ms/step - loss: 0.3926 - accuracy: 0.8182 - precision: 0.6950 - recall: 0.4740\n",
      "Epoch 42/50\n",
      "288/288 [==============================] - 0s 2ms/step - loss: 0.3937 - accuracy: 0.8164 - precision: 0.6924 - recall: 0.4657\n",
      "Epoch 43/50\n",
      "288/288 [==============================] - 0s 2ms/step - loss: 0.3936 - accuracy: 0.8176 - precision: 0.6946 - recall: 0.4705\n",
      "Epoch 44/50\n",
      "288/288 [==============================] - 0s 2ms/step - loss: 0.3943 - accuracy: 0.8165 - precision: 0.6895 - recall: 0.4711\n",
      "Epoch 45/50\n",
      "288/288 [==============================] - 0s 2ms/step - loss: 0.3930 - accuracy: 0.8167 - precision: 0.6933 - recall: 0.4660\n",
      "Epoch 46/50\n",
      "288/288 [==============================] - 0s 2ms/step - loss: 0.3940 - accuracy: 0.8155 - precision: 0.6867 - recall: 0.4686\n",
      "Epoch 47/50\n",
      "288/288 [==============================] - 0s 2ms/step - loss: 0.3925 - accuracy: 0.8173 - precision: 0.6913 - recall: 0.4742\n",
      "Epoch 48/50\n",
      "288/288 [==============================] - 0s 2ms/step - loss: 0.3931 - accuracy: 0.8153 - precision: 0.6891 - recall: 0.4636\n",
      "Epoch 49/50\n",
      "288/288 [==============================] - 0s 2ms/step - loss: 0.3921 - accuracy: 0.8169 - precision: 0.6919 - recall: 0.4698\n",
      "Epoch 50/50\n",
      "288/288 [==============================] - 0s 2ms/step - loss: 0.3933 - accuracy: 0.8175 - precision: 0.6934 - recall: 0.4715\n"
     ]
    }
   ],
   "source": [
    "history = model_new.fit(tf.convert_to_tensor(train_synth.iloc[:,:7]),tf.convert_to_tensor(train_synth.iloc[:,-3:]),epochs=50)"
   ]
  },
  {
   "cell_type": "code",
   "execution_count": 62,
   "id": "001f8941",
   "metadata": {},
   "outputs": [],
   "source": [
    "syn30_acc = history.history['accuracy'] "
   ]
  },
  {
   "cell_type": "markdown",
   "id": "03d81de3",
   "metadata": {},
   "source": [
    "<span style='color:Blue'> The synthetic data's accuracy as can be seen is 81.7% which is one percent behind the real-data which is very good  </span>"
   ]
  },
  {
   "cell_type": "code",
   "execution_count": 111,
   "id": "6aafc0dd",
   "metadata": {},
   "outputs": [
    {
     "name": "stdout",
     "output_type": "stream",
     "text": [
      "Spent 20.0 epsilon on preprocessor, leaving 80.0 for training\n"
     ]
    },
    {
     "name": "stderr",
     "output_type": "stream",
     "text": [
      "C:\\Users\\mssid\\anaconda3\\envs\\PET\\lib\\site-packages\\snsynth\\mwem.py:570: UserWarning: Data should be preprocessed to have 0 based indices.\n",
      "  warnings.warn(\"Data should be preprocessed to have 0 based indices.\")\n"
     ]
    },
    {
     "name": "stdout",
     "output_type": "stream",
     "text": [
      "Processing 1 histograms\n",
      "\n",
      "Histogram #0 split: [0 1 2 3 4 5 6 7 8 9]\n",
      "Columns: 10\n",
      "Dimensionality: 829,440\n",
      "Cuboids possible: 1023\n",
      "1-2-way cuboids possible: 55\n",
      "Fitting for 40 iterations\n",
      "Number of queries: 80\n",
      "Number of slices in queries: 1216\n",
      "Per-Measure Epsilon: 1.000\n",
      "Measurement Error: 2.30\n",
      "\n",
      "[0] - Average error: 475.293. Selected 4 slices\n",
      "[1] - Average error: 428.557. Selected 4 slices\n",
      "[2] - Average error: 376.287. Selected 2 slices\n",
      "[3] - Average error: 336.544. Selected 2 slices\n",
      "[4] - Average error: 295.012. Selected 6 slices\n",
      "[5] - Average error: 248.870. Selected 6 slices\n",
      "[6] - Average error: 193.870. Selected 4 slices\n",
      "[7] - Average error: 160.258. Selected 6 slices\n",
      "[8] - Average error: 129.916. Selected 12 slices\n",
      "[9] - Average error: 101.479. Selected 4 slices\n",
      "[10] - Average error: 86.249. Selected 10 slices\n",
      "[11] - Average error: 60.875. Selected 4 slices\n",
      "[12] - Average error: 50.986. Selected 8 slices\n",
      "[13] - Average error: 43.567. Selected 8 slices\n",
      "[14] - Average error: 36.477. Selected 10 slices\n",
      "[15] - Average error: 33.568. Selected 12 slices\n",
      "[16] - Average error: 32.427. Selected 12 slices\n",
      "[17] - Average error: 30.024. Selected 8 slices\n",
      "[18] - Average error: 27.259. Selected 12 slices\n",
      "[19] - Average error: 24.671. Selected 36 slices\n",
      "[20] - Average error: 25.191. Selected 12 slices\n",
      "[21] - Average error: 22.050. Selected 8 slices\n",
      "[22] - Average error: 18.577. Selected 36 slices\n",
      "[23] - Average error: 17.668. Selected 12 slices\n",
      "[24] - Average error: 15.370. Selected 30 slices\n",
      "[25] - Average error: 14.033. Selected 12 slices\n",
      "[26] - Average error: 12.564. Selected 20 slices\n",
      "[27] - Average error: 10.808. Selected 12 slices\n",
      "[28] - Average error: 9.495. Selected 20 slices\n",
      "[29] - Average error: 8.634. Selected 10 slices\n",
      "[30] - Average error: 7.623. Selected 12 slices\n",
      "[31] - Average error: 7.053. Selected 24 slices\n",
      "[32] - Average error: 6.446. Selected 30 slices\n",
      "[33] - Average error: 5.827. Selected 12 slices\n",
      "[34] - Average error: 5.228. Selected 8 slices\n",
      "[35] - Average error: 4.664. Selected 16 slices\n",
      "[36] - Average error: 4.107. Selected 30 slices\n",
      "[37] - Average error: 3.814. Selected 36 slices\n",
      "[38] - Average error: 3.620. Selected 30 slices\n",
      "[39] - Average error: 3.310. Selected 12 slices\n"
     ]
    }
   ],
   "source": [
    "synth = Synthesizer.create(\"mwem\", epsilon=100.0, verbose=True)\n",
    "train_data = pd.concat([trainx_ref[impor_feat],trainx_ref[trainx_ref.columns[-3:]]],axis = 1)\n",
    "trainx_synth = synth.fit_sample(train_data, preprocessor_eps = 20)"
   ]
  },
  {
   "cell_type": "code",
   "execution_count": 112,
   "id": "e1c2108b",
   "metadata": {},
   "outputs": [],
   "source": [
    "trainx_synth.to_csv('train_synth_impor_feats_e100.csv')"
   ]
  },
  {
   "cell_type": "code",
   "execution_count": 63,
   "id": "5f27c615",
   "metadata": {},
   "outputs": [],
   "source": [
    "train_synth = pd.read_csv('train_synth_impor_feats_e100.csv')"
   ]
  },
  {
   "cell_type": "code",
   "execution_count": 64,
   "id": "e430a239",
   "metadata": {},
   "outputs": [],
   "source": [
    "train_synth.drop(columns=['Unnamed: 0'],inplace=True)"
   ]
  },
  {
   "cell_type": "code",
   "execution_count": 65,
   "id": "d9ca449a",
   "metadata": {},
   "outputs": [],
   "source": [
    "model_new = tf.keras.Sequential([\n",
    "    tf.keras.layers.Dense(128, activation='relu'),\n",
    "    tf.keras.layers.Dense(256, activation='relu'),\n",
    "    tf.keras.layers.Dense(256, activation='relu'),\n",
    "    tf.keras.layers.Dense(3, activation='sigmoid')\n",
    "])\n",
    "\n",
    "model_new.compile(\n",
    "    loss=tf.keras.losses.binary_crossentropy,\n",
    "    optimizer=tf.keras.optimizers.Adam(learning_rate=0.01),\n",
    "    metrics=[\n",
    "        tf.keras.metrics.BinaryAccuracy(name='accuracy'),\n",
    "        tf.keras.metrics.Precision(name='precision'),\n",
    "        tf.keras.metrics.Recall(name='recall')\n",
    "    ]\n",
    ")"
   ]
  },
  {
   "cell_type": "code",
   "execution_count": 66,
   "id": "e2f33418",
   "metadata": {},
   "outputs": [
    {
     "name": "stdout",
     "output_type": "stream",
     "text": [
      "Epoch 1/50\n",
      "288/288 [==============================] - 2s 2ms/step - loss: 0.4329 - accuracy: 0.7958 - precision: 0.6473 - recall: 0.4249\n",
      "Epoch 2/50\n",
      "288/288 [==============================] - 1s 2ms/step - loss: 0.4189 - accuracy: 0.8046 - precision: 0.6589 - recall: 0.4733\n",
      "Epoch 3/50\n",
      "288/288 [==============================] - 1s 2ms/step - loss: 0.4171 - accuracy: 0.8056 - precision: 0.6642 - recall: 0.4697\n",
      "Epoch 4/50\n",
      "288/288 [==============================] - 1s 2ms/step - loss: 0.4152 - accuracy: 0.8063 - precision: 0.6613 - recall: 0.4815\n",
      "Epoch 5/50\n",
      "288/288 [==============================] - 1s 2ms/step - loss: 0.4096 - accuracy: 0.8086 - precision: 0.6734 - recall: 0.4740\n",
      "Epoch 6/50\n",
      "288/288 [==============================] - 1s 2ms/step - loss: 0.4103 - accuracy: 0.8116 - precision: 0.6802 - recall: 0.4829\n",
      "Epoch 7/50\n",
      "288/288 [==============================] - 1s 2ms/step - loss: 0.4081 - accuracy: 0.8105 - precision: 0.6786 - recall: 0.4777\n",
      "Epoch 8/50\n",
      "288/288 [==============================] - 1s 2ms/step - loss: 0.4080 - accuracy: 0.8107 - precision: 0.6838 - recall: 0.4696\n",
      "Epoch 9/50\n",
      "288/288 [==============================] - 1s 2ms/step - loss: 0.4064 - accuracy: 0.8097 - precision: 0.6703 - recall: 0.4888\n",
      "Epoch 10/50\n",
      "288/288 [==============================] - 1s 2ms/step - loss: 0.4062 - accuracy: 0.8115 - precision: 0.6800 - recall: 0.4828\n",
      "Epoch 11/50\n",
      "288/288 [==============================] - 1s 2ms/step - loss: 0.4054 - accuracy: 0.8093 - precision: 0.6769 - recall: 0.4717\n",
      "Epoch 12/50\n",
      "288/288 [==============================] - 1s 2ms/step - loss: 0.4058 - accuracy: 0.8135 - precision: 0.6865 - recall: 0.4846\n",
      "Epoch 13/50\n",
      "288/288 [==============================] - 1s 2ms/step - loss: 0.4042 - accuracy: 0.8122 - precision: 0.6836 - recall: 0.4807\n",
      "Epoch 14/50\n",
      "288/288 [==============================] - 1s 2ms/step - loss: 0.4036 - accuracy: 0.8137 - precision: 0.6907 - recall: 0.4785\n",
      "Epoch 15/50\n",
      "288/288 [==============================] - 1s 2ms/step - loss: 0.4036 - accuracy: 0.8125 - precision: 0.6858 - recall: 0.4786\n",
      "Epoch 16/50\n",
      "288/288 [==============================] - 1s 2ms/step - loss: 0.4041 - accuracy: 0.8115 - precision: 0.6837 - recall: 0.4757\n",
      "Epoch 17/50\n",
      "288/288 [==============================] - 1s 2ms/step - loss: 0.4024 - accuracy: 0.8130 - precision: 0.6857 - recall: 0.4828\n",
      "Epoch 18/50\n",
      "288/288 [==============================] - 1s 2ms/step - loss: 0.4048 - accuracy: 0.8123 - precision: 0.6823 - recall: 0.4842\n",
      "Epoch 19/50\n",
      "288/288 [==============================] - 1s 2ms/step - loss: 0.4045 - accuracy: 0.8115 - precision: 0.6796 - recall: 0.4833\n",
      "Epoch 20/50\n",
      "288/288 [==============================] - 1s 2ms/step - loss: 0.4021 - accuracy: 0.8129 - precision: 0.6892 - recall: 0.4755\n",
      "Epoch 21/50\n",
      "288/288 [==============================] - 1s 2ms/step - loss: 0.4017 - accuracy: 0.8139 - precision: 0.6834 - recall: 0.4939\n",
      "Epoch 22/50\n",
      "288/288 [==============================] - 1s 2ms/step - loss: 0.4013 - accuracy: 0.8131 - precision: 0.6891 - recall: 0.4770\n",
      "Epoch 23/50\n",
      "288/288 [==============================] - 0s 2ms/step - loss: 0.4016 - accuracy: 0.8111 - precision: 0.6768 - recall: 0.4859\n",
      "Epoch 24/50\n",
      "288/288 [==============================] - 1s 2ms/step - loss: 0.4008 - accuracy: 0.8132 - precision: 0.6832 - recall: 0.4886\n",
      "Epoch 25/50\n",
      "288/288 [==============================] - 0s 2ms/step - loss: 0.4010 - accuracy: 0.8136 - precision: 0.6907 - recall: 0.4779\n",
      "Epoch 26/50\n",
      "288/288 [==============================] - 1s 2ms/step - loss: 0.3993 - accuracy: 0.8126 - precision: 0.6820 - recall: 0.4865\n",
      "Epoch 27/50\n",
      "288/288 [==============================] - 1s 2ms/step - loss: 0.3997 - accuracy: 0.8144 - precision: 0.6944 - recall: 0.4765\n",
      "Epoch 28/50\n",
      "288/288 [==============================] - 0s 2ms/step - loss: 0.4003 - accuracy: 0.8124 - precision: 0.6843 - recall: 0.4809\n",
      "Epoch 29/50\n",
      "288/288 [==============================] - 1s 2ms/step - loss: 0.3982 - accuracy: 0.8150 - precision: 0.6911 - recall: 0.4870\n",
      "Epoch 30/50\n",
      "288/288 [==============================] - 1s 2ms/step - loss: 0.3993 - accuracy: 0.8142 - precision: 0.6849 - recall: 0.4928\n",
      "Epoch 31/50\n",
      "288/288 [==============================] - 0s 2ms/step - loss: 0.4004 - accuracy: 0.8126 - precision: 0.6813 - recall: 0.4879\n",
      "Epoch 32/50\n",
      "288/288 [==============================] - 1s 2ms/step - loss: 0.3988 - accuracy: 0.8140 - precision: 0.6870 - recall: 0.4873\n",
      "Epoch 33/50\n",
      "288/288 [==============================] - 1s 2ms/step - loss: 0.3994 - accuracy: 0.8139 - precision: 0.6834 - recall: 0.4938\n",
      "Epoch 34/50\n",
      "288/288 [==============================] - 1s 2ms/step - loss: 0.3978 - accuracy: 0.8148 - precision: 0.6869 - recall: 0.4933\n",
      "Epoch 35/50\n",
      "288/288 [==============================] - 1s 2ms/step - loss: 0.4003 - accuracy: 0.8116 - precision: 0.6824 - recall: 0.4790\n",
      "Epoch 36/50\n",
      "288/288 [==============================] - 1s 2ms/step - loss: 0.3976 - accuracy: 0.8137 - precision: 0.6871 - recall: 0.4855\n",
      "Epoch 37/50\n",
      "288/288 [==============================] - 1s 2ms/step - loss: 0.3984 - accuracy: 0.8135 - precision: 0.6827 - recall: 0.4918\n",
      "Epoch 38/50\n",
      "288/288 [==============================] - 0s 2ms/step - loss: 0.3990 - accuracy: 0.8145 - precision: 0.6866 - recall: 0.4922\n",
      "Epoch 39/50\n",
      "288/288 [==============================] - 0s 2ms/step - loss: 0.3998 - accuracy: 0.8118 - precision: 0.6842 - recall: 0.4769\n",
      "Epoch 40/50\n",
      "288/288 [==============================] - 0s 2ms/step - loss: 0.3983 - accuracy: 0.8153 - precision: 0.6917 - recall: 0.4882\n",
      "Epoch 41/50\n",
      "288/288 [==============================] - 1s 2ms/step - loss: 0.3985 - accuracy: 0.8149 - precision: 0.6856 - recall: 0.4966\n",
      "Epoch 42/50\n",
      "288/288 [==============================] - 0s 2ms/step - loss: 0.3985 - accuracy: 0.8132 - precision: 0.6861 - recall: 0.4836\n",
      "Epoch 43/50\n",
      "288/288 [==============================] - 0s 2ms/step - loss: 0.3978 - accuracy: 0.8133 - precision: 0.6843 - recall: 0.4879\n",
      "Epoch 44/50\n",
      "288/288 [==============================] - 0s 2ms/step - loss: 0.3977 - accuracy: 0.8131 - precision: 0.6837 - recall: 0.4875\n",
      "Epoch 45/50\n",
      "288/288 [==============================] - 0s 2ms/step - loss: 0.3973 - accuracy: 0.8153 - precision: 0.6874 - recall: 0.4959\n",
      "Epoch 46/50\n",
      "288/288 [==============================] - 1s 2ms/step - loss: 0.3980 - accuracy: 0.8136 - precision: 0.6879 - recall: 0.4829\n",
      "Epoch 47/50\n",
      "288/288 [==============================] - 1s 2ms/step - loss: 0.3974 - accuracy: 0.8148 - precision: 0.6865 - recall: 0.4943\n",
      "Epoch 48/50\n",
      "288/288 [==============================] - 1s 2ms/step - loss: 0.3958 - accuracy: 0.8153 - precision: 0.6909 - recall: 0.4892\n",
      "Epoch 49/50\n",
      "288/288 [==============================] - 0s 2ms/step - loss: 0.3969 - accuracy: 0.8147 - precision: 0.6870 - recall: 0.4928\n",
      "Epoch 50/50\n",
      "288/288 [==============================] - 1s 2ms/step - loss: 0.3977 - accuracy: 0.8158 - precision: 0.6889 - recall: 0.4972\n"
     ]
    }
   ],
   "source": [
    "history = model_new.fit(tf.convert_to_tensor(train_synth.iloc[:,:7]),tf.convert_to_tensor(train_synth.iloc[:,-3:]),epochs=50)"
   ]
  },
  {
   "cell_type": "code",
   "execution_count": 67,
   "id": "1b54bbdd",
   "metadata": {},
   "outputs": [],
   "source": [
    "syn100_acc = history.history['accuracy'] "
   ]
  },
  {
   "cell_type": "code",
   "execution_count": 118,
   "id": "104b990e",
   "metadata": {},
   "outputs": [
    {
     "name": "stdout",
     "output_type": "stream",
     "text": [
      "Spent 2.9999999999999996 epsilon on preprocessor, leaving 12.0 for training\n"
     ]
    },
    {
     "name": "stderr",
     "output_type": "stream",
     "text": [
      "C:\\Users\\mssid\\anaconda3\\envs\\PET\\lib\\site-packages\\snsynth\\mwem.py:570: UserWarning: Data should be preprocessed to have 0 based indices.\n",
      "  warnings.warn(\"Data should be preprocessed to have 0 based indices.\")\n"
     ]
    },
    {
     "name": "stdout",
     "output_type": "stream",
     "text": [
      "Processing 1 histograms\n",
      "\n",
      "Histogram #0 split: [0 1 2 3 4 5 6 7 8 9]\n",
      "Columns: 10\n",
      "Dimensionality: 1,382,400\n",
      "Cuboids possible: 1023\n",
      "1-2-way cuboids possible: 55\n",
      "Fitting for 40 iterations\n",
      "Number of queries: 80\n",
      "Number of slices in queries: 1407\n",
      "Per-Measure Epsilon: 0.150\n",
      "Measurement Error: 15.35\n",
      "\n",
      "[0] - Average error: 70.311. Selected 2 slices\n",
      "[1] - Average error: 63.220. Selected 2 slices\n",
      "[2] - Average error: 56.859. Selected 4 slices\n",
      "[3] - Average error: 49.452. Selected 4 slices\n",
      "[4] - Average error: 42.807. Selected 6 slices\n",
      "[5] - Average error: 35.560. Selected 6 slices\n",
      "[6] - Average error: 29.679. Selected 4 slices\n",
      "[7] - Average error: 24.336. Selected 10 slices\n",
      "[8] - Average error: 19.282. Selected 5 slices\n",
      "[9] - Average error: 14.931. Selected 6 slices\n",
      "[10] - Average error: 10.123. Selected 4 slices\n",
      "[11] - Average error: 8.498. Selected 8 slices\n",
      "[12] - Average error: 7.341. Selected 8 slices\n",
      "[13] - Average error: 6.186. Selected 10 slices\n",
      "[14] - Average error: 5.455. Selected 12 slices\n",
      "[15] - Average error: 5.061. Selected 10 slices\n",
      "[16] - Average error: 4.488. Selected 8 slices\n",
      "[17] - Average error: 4.091. Selected 12 slices\n",
      "[18] - Average error: 3.892. Selected 8 slices\n",
      "[19] - Average error: 3.662. Selected 12 slices\n",
      "[20] - Average error: 3.267. Selected 12 slices\n",
      "[21] - Average error: 3.144. Selected 12 slices\n",
      "[22] - Average error: 2.907. Selected 12 slices\n",
      "[23] - Average error: 2.691. Selected 36 slices\n",
      "[24] - Average error: 2.730. Selected 8 slices\n",
      "[25] - Average error: 2.320. Selected 20 slices\n",
      "[26] - Average error: 2.143. Selected 30 slices\n",
      "[27] - Average error: 1.947. Selected 4 slices\n",
      "[28] - Average error: 1.727. Selected 60 slices\n",
      "[29] - Average error: 1.830. Selected 20 slices\n",
      "[30] - Average error: 1.575. Selected 12 slices\n",
      "[31] - Average error: 1.406. Selected 20 slices\n",
      "[32] - Average error: 1.284. Selected 30 slices\n",
      "[33] - Average error: 1.170. Selected 20 slices\n",
      "[34] - Average error: 1.105. Selected 12 slices\n",
      "[35] - Average error: 1.000. Selected 10 slices\n",
      "[36] - Average error: 0.906. Selected 8 slices\n",
      "[37] - Average error: 0.809. Selected 8 slices\n",
      "[38] - Average error: 0.747. Selected 30 slices\n",
      "[39] - Average error: 0.697. Selected 20 slices\n"
     ]
    }
   ],
   "source": [
    "synth = Synthesizer.create(\"mwem\", epsilon=15.0, verbose=True)\n",
    "train_data = pd.concat([trainx_ref[impor_feat],trainx_ref[trainx_ref.columns[-3:]]],axis = 1)\n",
    "trainx_synth = synth.fit_sample(train_data, preprocessor_eps = 3)"
   ]
  },
  {
   "cell_type": "code",
   "execution_count": 119,
   "id": "073c8ab7",
   "metadata": {},
   "outputs": [],
   "source": [
    "trainx_synth.to_csv('train_synth_impor_feats_e15.csv')"
   ]
  },
  {
   "cell_type": "code",
   "execution_count": 68,
   "id": "01d70a2f",
   "metadata": {},
   "outputs": [],
   "source": [
    "train_synth = pd.read_csv('train_synth_impor_feats_e15.csv')"
   ]
  },
  {
   "cell_type": "code",
   "execution_count": 69,
   "id": "c9e16c73",
   "metadata": {},
   "outputs": [],
   "source": [
    "train_synth.drop(columns=['Unnamed: 0'],inplace=True)"
   ]
  },
  {
   "cell_type": "code",
   "execution_count": 70,
   "id": "2e1389a0",
   "metadata": {},
   "outputs": [],
   "source": [
    "model_new = tf.keras.Sequential([\n",
    "    tf.keras.layers.Dense(128, activation='relu'),\n",
    "    tf.keras.layers.Dense(256, activation='relu'),\n",
    "    tf.keras.layers.Dense(256, activation='relu'),\n",
    "    tf.keras.layers.Dense(3, activation='sigmoid')\n",
    "])\n",
    "\n",
    "model_new.compile(\n",
    "    loss=tf.keras.losses.binary_crossentropy,\n",
    "    optimizer=tf.keras.optimizers.Adam(learning_rate=0.01),\n",
    "    metrics=[\n",
    "        tf.keras.metrics.BinaryAccuracy(name='accuracy'),\n",
    "        tf.keras.metrics.Precision(name='precision'),\n",
    "        tf.keras.metrics.Recall(name='recall')\n",
    "    ]\n",
    ")"
   ]
  },
  {
   "cell_type": "code",
   "execution_count": 71,
   "id": "f6de3c7b",
   "metadata": {},
   "outputs": [
    {
     "name": "stdout",
     "output_type": "stream",
     "text": [
      "Epoch 1/50\n",
      "288/288 [==============================] - 2s 2ms/step - loss: 0.4318 - accuracy: 0.7971 - precision: 0.6279 - recall: 0.4313\n",
      "Epoch 2/50\n",
      "288/288 [==============================] - 1s 2ms/step - loss: 0.4199 - accuracy: 0.8033 - precision: 0.6450 - recall: 0.4469\n",
      "Epoch 3/50\n",
      "288/288 [==============================] - 1s 2ms/step - loss: 0.4170 - accuracy: 0.8070 - precision: 0.6533 - recall: 0.4597\n",
      "Epoch 4/50\n",
      "288/288 [==============================] - 1s 2ms/step - loss: 0.4166 - accuracy: 0.8058 - precision: 0.6479 - recall: 0.4627\n",
      "Epoch 5/50\n",
      "288/288 [==============================] - 1s 2ms/step - loss: 0.4116 - accuracy: 0.8092 - precision: 0.6567 - recall: 0.4714\n",
      "Epoch 6/50\n",
      "288/288 [==============================] - 1s 2ms/step - loss: 0.4125 - accuracy: 0.8099 - precision: 0.6627 - recall: 0.4640\n",
      "Epoch 7/50\n",
      "288/288 [==============================] - 1s 2ms/step - loss: 0.4102 - accuracy: 0.8119 - precision: 0.6715 - recall: 0.4617\n",
      "Epoch 8/50\n",
      "288/288 [==============================] - 1s 2ms/step - loss: 0.4082 - accuracy: 0.8121 - precision: 0.6678 - recall: 0.4709\n",
      "Epoch 9/50\n",
      "288/288 [==============================] - 1s 2ms/step - loss: 0.4074 - accuracy: 0.8132 - precision: 0.6730 - recall: 0.4693\n",
      "Epoch 10/50\n",
      "288/288 [==============================] - 1s 2ms/step - loss: 0.4097 - accuracy: 0.8111 - precision: 0.6644 - recall: 0.4696\n",
      "Epoch 11/50\n",
      "288/288 [==============================] - 1s 2ms/step - loss: 0.4081 - accuracy: 0.8118 - precision: 0.6720 - recall: 0.4600\n",
      "Epoch 12/50\n",
      "288/288 [==============================] - 1s 2ms/step - loss: 0.4070 - accuracy: 0.8128 - precision: 0.6736 - recall: 0.4644\n",
      "Epoch 13/50\n",
      "288/288 [==============================] - 0s 2ms/step - loss: 0.4077 - accuracy: 0.8123 - precision: 0.6789 - recall: 0.4503\n",
      "Epoch 14/50\n",
      "288/288 [==============================] - 0s 2ms/step - loss: 0.4064 - accuracy: 0.8117 - precision: 0.6701 - recall: 0.4631\n",
      "Epoch 15/50\n",
      "288/288 [==============================] - 0s 2ms/step - loss: 0.4068 - accuracy: 0.8131 - precision: 0.6734 - recall: 0.4674\n",
      "Epoch 16/50\n",
      "288/288 [==============================] - 0s 2ms/step - loss: 0.4052 - accuracy: 0.8139 - precision: 0.6724 - recall: 0.4755\n",
      "Epoch 17/50\n",
      "288/288 [==============================] - 1s 2ms/step - loss: 0.4060 - accuracy: 0.8135 - precision: 0.6752 - recall: 0.4667\n",
      "Epoch 18/50\n",
      "288/288 [==============================] - 0s 2ms/step - loss: 0.4038 - accuracy: 0.8147 - precision: 0.6800 - recall: 0.4670\n",
      "Epoch 19/50\n",
      "288/288 [==============================] - 0s 2ms/step - loss: 0.4054 - accuracy: 0.8141 - precision: 0.6788 - recall: 0.4644\n",
      "Epoch 20/50\n",
      "288/288 [==============================] - 0s 2ms/step - loss: 0.4056 - accuracy: 0.8136 - precision: 0.6743 - recall: 0.4695\n",
      "Epoch 21/50\n",
      "288/288 [==============================] - 0s 2ms/step - loss: 0.4044 - accuracy: 0.8140 - precision: 0.6765 - recall: 0.4686\n",
      "Epoch 22/50\n",
      "288/288 [==============================] - 0s 2ms/step - loss: 0.4059 - accuracy: 0.8137 - precision: 0.6731 - recall: 0.4728\n",
      "Epoch 23/50\n",
      "288/288 [==============================] - 0s 2ms/step - loss: 0.4049 - accuracy: 0.8137 - precision: 0.6731 - recall: 0.4728\n",
      "Epoch 24/50\n",
      "288/288 [==============================] - 0s 2ms/step - loss: 0.4030 - accuracy: 0.8154 - precision: 0.6816 - recall: 0.4693\n",
      "Epoch 25/50\n",
      "288/288 [==============================] - 1s 2ms/step - loss: 0.4043 - accuracy: 0.8129 - precision: 0.6734 - recall: 0.4659\n",
      "Epoch 26/50\n",
      "288/288 [==============================] - 0s 2ms/step - loss: 0.4034 - accuracy: 0.8156 - precision: 0.6805 - recall: 0.4728\n",
      "Epoch 27/50\n",
      "288/288 [==============================] - 0s 2ms/step - loss: 0.4036 - accuracy: 0.8132 - precision: 0.6764 - recall: 0.4622\n",
      "Epoch 28/50\n",
      "288/288 [==============================] - 0s 2ms/step - loss: 0.4032 - accuracy: 0.8150 - precision: 0.6837 - recall: 0.4621\n",
      "Epoch 29/50\n",
      "288/288 [==============================] - 0s 2ms/step - loss: 0.4022 - accuracy: 0.8153 - precision: 0.6806 - recall: 0.4702\n",
      "Epoch 30/50\n",
      "288/288 [==============================] - 0s 2ms/step - loss: 0.4026 - accuracy: 0.8151 - precision: 0.6781 - recall: 0.4733\n",
      "Epoch 31/50\n",
      "288/288 [==============================] - 0s 2ms/step - loss: 0.4030 - accuracy: 0.8146 - precision: 0.6804 - recall: 0.4656\n",
      "Epoch 32/50\n",
      "288/288 [==============================] - 0s 2ms/step - loss: 0.4026 - accuracy: 0.8154 - precision: 0.6778 - recall: 0.4765\n",
      "Epoch 33/50\n",
      "288/288 [==============================] - 0s 2ms/step - loss: 0.4024 - accuracy: 0.8144 - precision: 0.6780 - recall: 0.4683\n",
      "Epoch 34/50\n",
      "288/288 [==============================] - 0s 2ms/step - loss: 0.4016 - accuracy: 0.8149 - precision: 0.6813 - recall: 0.4664\n",
      "Epoch 35/50\n",
      "288/288 [==============================] - 1s 2ms/step - loss: 0.4015 - accuracy: 0.8145 - precision: 0.6766 - recall: 0.4721\n",
      "Epoch 36/50\n",
      "288/288 [==============================] - 0s 2ms/step - loss: 0.4008 - accuracy: 0.8159 - precision: 0.6839 - recall: 0.4686\n",
      "Epoch 37/50\n",
      "288/288 [==============================] - 0s 2ms/step - loss: 0.4015 - accuracy: 0.8154 - precision: 0.6826 - recall: 0.4675\n",
      "Epoch 38/50\n",
      "288/288 [==============================] - 0s 2ms/step - loss: 0.4015 - accuracy: 0.8151 - precision: 0.6783 - recall: 0.4731\n",
      "Epoch 39/50\n",
      "288/288 [==============================] - 0s 2ms/step - loss: 0.4016 - accuracy: 0.8144 - precision: 0.6786 - recall: 0.4677\n",
      "Epoch 40/50\n",
      "288/288 [==============================] - 1s 2ms/step - loss: 0.3998 - accuracy: 0.8161 - precision: 0.6831 - recall: 0.4721\n",
      "Epoch 41/50\n",
      "288/288 [==============================] - 0s 2ms/step - loss: 0.4003 - accuracy: 0.8154 - precision: 0.6820 - recall: 0.4683\n",
      "Epoch 42/50\n",
      "288/288 [==============================] - 0s 2ms/step - loss: 0.4001 - accuracy: 0.8151 - precision: 0.6796 - recall: 0.4705\n",
      "Epoch 43/50\n",
      "288/288 [==============================] - 0s 2ms/step - loss: 0.4013 - accuracy: 0.8158 - precision: 0.6834 - recall: 0.4690\n",
      "Epoch 44/50\n",
      "288/288 [==============================] - 1s 2ms/step - loss: 0.4010 - accuracy: 0.8155 - precision: 0.6820 - recall: 0.4689\n",
      "Epoch 45/50\n",
      "288/288 [==============================] - 1s 2ms/step - loss: 0.3996 - accuracy: 0.8166 - precision: 0.6814 - recall: 0.4792\n",
      "Epoch 46/50\n",
      "288/288 [==============================] - 1s 2ms/step - loss: 0.4010 - accuracy: 0.8160 - precision: 0.6768 - recall: 0.4836\n",
      "Epoch 47/50\n",
      "288/288 [==============================] - 0s 2ms/step - loss: 0.3999 - accuracy: 0.8147 - precision: 0.6743 - recall: 0.4781\n",
      "Epoch 48/50\n",
      "288/288 [==============================] - 1s 2ms/step - loss: 0.3988 - accuracy: 0.8162 - precision: 0.6789 - recall: 0.4811\n",
      "Epoch 49/50\n",
      "288/288 [==============================] - 1s 2ms/step - loss: 0.3994 - accuracy: 0.8163 - precision: 0.6808 - recall: 0.4778\n",
      "Epoch 50/50\n",
      "288/288 [==============================] - 1s 2ms/step - loss: 0.3999 - accuracy: 0.8165 - precision: 0.6825 - recall: 0.4762\n"
     ]
    }
   ],
   "source": [
    "history = model_new.fit(tf.convert_to_tensor(train_synth.iloc[:,:7]),tf.convert_to_tensor(train_synth.iloc[:,-3:]),epochs=50)"
   ]
  },
  {
   "cell_type": "code",
   "execution_count": 72,
   "id": "69645fa8",
   "metadata": {},
   "outputs": [],
   "source": [
    "syn15_acc = history.history['accuracy'] "
   ]
  },
  {
   "cell_type": "code",
   "execution_count": 55,
   "id": "eeaf1e17",
   "metadata": {},
   "outputs": [
    {
     "name": "stdout",
     "output_type": "stream",
     "text": [
      "Spent 0.9999999999999998 epsilon on preprocessor, leaving 1.0000000000000002 for training\n"
     ]
    },
    {
     "name": "stderr",
     "output_type": "stream",
     "text": [
      "C:\\Users\\mssid\\anaconda3\\envs\\PET\\lib\\site-packages\\snsynth\\mwem.py:570: UserWarning: Data should be preprocessed to have 0 based indices.\n",
      "  warnings.warn(\"Data should be preprocessed to have 0 based indices.\")\n"
     ]
    },
    {
     "name": "stdout",
     "output_type": "stream",
     "text": [
      "Processing 1 histograms\n",
      "\n",
      "Histogram #0 split: [0 1 2 3 4 5 6 7 8 9]\n",
      "Columns: 10\n",
      "Dimensionality: 2,534,400\n",
      "Cuboids possible: 1023\n",
      "1-2-way cuboids possible: 55\n",
      "Fitting for 40 iterations\n",
      "Number of queries: 80\n",
      "Number of slices in queries: 1856\n",
      "Per-Measure Epsilon: 0.013\n",
      "Measurement Error: 184.21\n",
      "\n",
      "[0] - Average error: 5.342. Selected 4 slices\n",
      "[1] - Average error: 4.731. Selected 4 slices\n",
      "[2] - Average error: 4.132. Selected 2 slices\n",
      "[3] - Average error: 3.563. Selected 2 slices\n",
      "[4] - Average error: 3.099. Selected 2 slices\n",
      "[5] - Average error: 2.477. Selected 6 slices\n",
      "[6] - Average error: 2.023. Selected 10 slices\n",
      "[7] - Average error: 1.780. Selected 6 slices\n",
      "[8] - Average error: 1.423. Selected 10 slices\n",
      "[9] - Average error: 1.064. Selected 8 slices\n",
      "[10] - Average error: 0.995. Selected 11 slices\n",
      "[11] - Average error: 0.798. Selected 8 slices\n",
      "[12] - Average error: 0.713. Selected 4 slices\n",
      "[13] - Average error: 0.594. Selected 10 slices\n",
      "[14] - Average error: 0.517. Selected 16 slices\n",
      "[15] - Average error: 0.510. Selected 110 slices\n",
      "[16] - Average error: 0.507. Selected 8 slices\n",
      "[17] - Average error: 0.450. Selected 12 slices\n",
      "[18] - Average error: 0.427. Selected 66 slices\n",
      "[19] - Average error: 0.420. Selected 40 slices\n",
      "[20] - Average error: 0.420. Selected 30 slices\n",
      "[21] - Average error: 0.415. Selected 12 slices\n",
      "[22] - Average error: 0.380. Selected 30 slices\n",
      "[23] - Average error: 0.383. Selected 2 slices\n",
      "[24] - Average error: 0.373. Selected 60 slices\n",
      "[25] - Average error: 0.366. Selected 8 slices\n",
      "[26] - Average error: 0.305. Selected 22 slices\n",
      "[27] - Average error: 0.288. Selected 12 slices\n",
      "[28] - Average error: 0.277. Selected 24 slices\n",
      "[29] - Average error: 0.272. Selected 44 slices\n",
      "[30] - Average error: 0.272. Selected 8 slices\n",
      "[31] - Average error: 0.260. Selected 8 slices\n",
      "[32] - Average error: 0.247. Selected 36 slices\n",
      "[33] - Average error: 0.246. Selected 8 slices\n",
      "[34] - Average error: 0.247. Selected 55 slices\n",
      "[35] - Average error: 0.247. Selected 20 slices\n",
      "[36] - Average error: 0.238. Selected 22 slices\n",
      "[37] - Average error: 0.233. Selected 10 slices\n",
      "[38] - Average error: 0.234. Selected 60 slices\n",
      "[39] - Average error: 0.235. Selected 22 slices\n"
     ]
    }
   ],
   "source": [
    "synth = Synthesizer.create(\"mwem\", epsilon=2.0, verbose=True)\n",
    "train_data = pd.concat([trainx_ref[impor_feat],trainx_ref[trainx_ref.columns[-3:]]],axis = 1)\n",
    "trainx_synth = synth.fit_sample(train_data, preprocessor_eps = 1)"
   ]
  },
  {
   "cell_type": "code",
   "execution_count": 56,
   "id": "60c4606a",
   "metadata": {},
   "outputs": [],
   "source": [
    "trainx_synth.to_csv('train_synth_impor_feats_e2.csv')"
   ]
  },
  {
   "cell_type": "code",
   "execution_count": 73,
   "id": "afebef06",
   "metadata": {},
   "outputs": [],
   "source": [
    "train_synth = pd.read_csv('train_synth_impor_feats_e2.csv')\n",
    "train_synth.drop(columns=['Unnamed: 0'],inplace=True)"
   ]
  },
  {
   "cell_type": "code",
   "execution_count": 74,
   "id": "5c216fbf",
   "metadata": {},
   "outputs": [],
   "source": [
    "model_new = tf.keras.Sequential([\n",
    "    tf.keras.layers.Dense(128, activation='relu'),\n",
    "    tf.keras.layers.Dense(256, activation='relu'),\n",
    "    tf.keras.layers.Dense(256, activation='relu'),\n",
    "    tf.keras.layers.Dense(3, activation='sigmoid')\n",
    "])\n",
    "\n",
    "model_new.compile(\n",
    "    loss=tf.keras.losses.binary_crossentropy,\n",
    "    optimizer=tf.keras.optimizers.Adam(learning_rate=0.01),\n",
    "    metrics=[\n",
    "        tf.keras.metrics.BinaryAccuracy(name='accuracy'),\n",
    "        tf.keras.metrics.Precision(name='precision'),\n",
    "        tf.keras.metrics.Recall(name='recall')\n",
    "    ]\n",
    ")"
   ]
  },
  {
   "cell_type": "code",
   "execution_count": 75,
   "id": "6505d75f",
   "metadata": {},
   "outputs": [
    {
     "name": "stdout",
     "output_type": "stream",
     "text": [
      "Epoch 1/50\n",
      "288/288 [==============================] - 2s 3ms/step - loss: 0.4393 - accuracy: 0.7971 - precision: 0.6449 - recall: 0.4417\n",
      "Epoch 2/50\n",
      "288/288 [==============================] - 1s 2ms/step - loss: 0.4214 - accuracy: 0.8079 - precision: 0.6610 - recall: 0.4946\n",
      "Epoch 3/50\n",
      "288/288 [==============================] - 1s 2ms/step - loss: 0.4150 - accuracy: 0.8112 - precision: 0.6634 - recall: 0.5157\n",
      "Epoch 4/50\n",
      "288/288 [==============================] - 1s 2ms/step - loss: 0.4145 - accuracy: 0.8104 - precision: 0.6655 - recall: 0.5044\n",
      "Epoch 5/50\n",
      "288/288 [==============================] - 1s 2ms/step - loss: 0.4069 - accuracy: 0.8160 - precision: 0.6857 - recall: 0.5038\n",
      "Epoch 6/50\n",
      "288/288 [==============================] - 1s 2ms/step - loss: 0.4019 - accuracy: 0.8197 - precision: 0.6992 - recall: 0.5051\n",
      "Epoch 7/50\n",
      "288/288 [==============================] - 1s 2ms/step - loss: 0.4005 - accuracy: 0.8206 - precision: 0.6963 - recall: 0.5165\n",
      "Epoch 8/50\n",
      "288/288 [==============================] - 1s 2ms/step - loss: 0.3990 - accuracy: 0.8205 - precision: 0.6987 - recall: 0.5114\n",
      "Epoch 9/50\n",
      "288/288 [==============================] - 1s 2ms/step - loss: 0.3961 - accuracy: 0.8221 - precision: 0.7083 - recall: 0.5054\n",
      "Epoch 10/50\n",
      "288/288 [==============================] - 1s 2ms/step - loss: 0.3953 - accuracy: 0.8204 - precision: 0.7039 - recall: 0.5014\n",
      "Epoch 11/50\n",
      "288/288 [==============================] - 1s 2ms/step - loss: 0.3969 - accuracy: 0.8194 - precision: 0.6965 - recall: 0.5077\n",
      "Epoch 12/50\n",
      "288/288 [==============================] - 1s 2ms/step - loss: 0.3940 - accuracy: 0.8211 - precision: 0.7021 - recall: 0.5091\n",
      "Epoch 13/50\n",
      "288/288 [==============================] - 1s 2ms/step - loss: 0.3925 - accuracy: 0.8232 - precision: 0.7083 - recall: 0.5125\n",
      "Epoch 14/50\n",
      "288/288 [==============================] - 1s 2ms/step - loss: 0.3917 - accuracy: 0.8235 - precision: 0.7080 - recall: 0.5148\n",
      "Epoch 15/50\n",
      "288/288 [==============================] - 1s 2ms/step - loss: 0.3918 - accuracy: 0.8227 - precision: 0.7035 - recall: 0.5180\n",
      "Epoch 16/50\n",
      "288/288 [==============================] - 1s 2ms/step - loss: 0.3913 - accuracy: 0.8221 - precision: 0.7032 - recall: 0.5142\n",
      "Epoch 17/50\n",
      "288/288 [==============================] - 1s 2ms/step - loss: 0.3917 - accuracy: 0.8214 - precision: 0.7008 - recall: 0.5137\n",
      "Epoch 18/50\n",
      "288/288 [==============================] - 1s 2ms/step - loss: 0.3908 - accuracy: 0.8224 - precision: 0.7086 - recall: 0.5069\n",
      "Epoch 19/50\n",
      "288/288 [==============================] - 1s 2ms/step - loss: 0.3903 - accuracy: 0.8226 - precision: 0.7081 - recall: 0.5088\n",
      "Epoch 20/50\n",
      "288/288 [==============================] - 1s 2ms/step - loss: 0.3898 - accuracy: 0.8233 - precision: 0.7076 - recall: 0.5145\n",
      "Epoch 21/50\n",
      "288/288 [==============================] - 1s 2ms/step - loss: 0.3912 - accuracy: 0.8211 - precision: 0.7011 - recall: 0.5108\n",
      "Epoch 22/50\n",
      "288/288 [==============================] - 1s 2ms/step - loss: 0.3879 - accuracy: 0.8231 - precision: 0.7087 - recall: 0.5110\n",
      "Epoch 23/50\n",
      "288/288 [==============================] - 1s 2ms/step - loss: 0.3881 - accuracy: 0.8227 - precision: 0.7049 - recall: 0.5152\n",
      "Epoch 24/50\n",
      "288/288 [==============================] - 1s 2ms/step - loss: 0.3894 - accuracy: 0.8228 - precision: 0.7086 - recall: 0.5091\n",
      "Epoch 25/50\n",
      "288/288 [==============================] - 1s 2ms/step - loss: 0.3885 - accuracy: 0.8223 - precision: 0.7018 - recall: 0.5180\n",
      "Epoch 26/50\n",
      "288/288 [==============================] - 1s 2ms/step - loss: 0.3879 - accuracy: 0.8240 - precision: 0.7154 - recall: 0.5057\n",
      "Epoch 27/50\n",
      "288/288 [==============================] - 1s 2ms/step - loss: 0.3885 - accuracy: 0.8234 - precision: 0.7003 - recall: 0.5281\n",
      "Epoch 28/50\n",
      "288/288 [==============================] - 1s 2ms/step - loss: 0.3879 - accuracy: 0.8213 - precision: 0.7035 - recall: 0.5081\n",
      "Epoch 29/50\n",
      "288/288 [==============================] - 1s 2ms/step - loss: 0.3878 - accuracy: 0.8241 - precision: 0.7094 - recall: 0.5165\n",
      "Epoch 30/50\n",
      "288/288 [==============================] - 1s 2ms/step - loss: 0.3869 - accuracy: 0.8236 - precision: 0.7092 - recall: 0.5137\n",
      "Epoch 31/50\n",
      "288/288 [==============================] - 1s 2ms/step - loss: 0.3877 - accuracy: 0.8241 - precision: 0.7106 - recall: 0.5147\n",
      "Epoch 32/50\n",
      "288/288 [==============================] - 1s 2ms/step - loss: 0.3861 - accuracy: 0.8240 - precision: 0.7097 - recall: 0.5152\n",
      "Epoch 33/50\n",
      "288/288 [==============================] - 0s 2ms/step - loss: 0.3855 - accuracy: 0.8256 - precision: 0.7126 - recall: 0.5211\n",
      "Epoch 34/50\n",
      "288/288 [==============================] - 1s 2ms/step - loss: 0.3845 - accuracy: 0.8249 - precision: 0.7104 - recall: 0.5207\n",
      "Epoch 35/50\n",
      "288/288 [==============================] - 1s 2ms/step - loss: 0.3856 - accuracy: 0.8255 - precision: 0.7083 - recall: 0.5281\n",
      "Epoch 36/50\n",
      "288/288 [==============================] - 1s 2ms/step - loss: 0.3860 - accuracy: 0.8232 - precision: 0.7047 - recall: 0.5193\n",
      "Epoch 37/50\n",
      "288/288 [==============================] - 1s 2ms/step - loss: 0.3847 - accuracy: 0.8248 - precision: 0.7083 - recall: 0.5231\n",
      "Epoch 38/50\n",
      "288/288 [==============================] - 1s 2ms/step - loss: 0.3846 - accuracy: 0.8243 - precision: 0.7110 - recall: 0.5154\n",
      "Epoch 39/50\n",
      "288/288 [==============================] - 1s 2ms/step - loss: 0.3872 - accuracy: 0.8255 - precision: 0.7152 - recall: 0.5160\n",
      "Epoch 40/50\n",
      "288/288 [==============================] - 1s 2ms/step - loss: 0.3851 - accuracy: 0.8245 - precision: 0.7103 - recall: 0.5181\n",
      "Epoch 41/50\n",
      "288/288 [==============================] - 1s 2ms/step - loss: 0.3843 - accuracy: 0.8255 - precision: 0.7084 - recall: 0.5280\n",
      "Epoch 42/50\n",
      "288/288 [==============================] - 1s 2ms/step - loss: 0.3859 - accuracy: 0.8233 - precision: 0.7048 - recall: 0.5195\n",
      "Epoch 43/50\n",
      "288/288 [==============================] - 1s 2ms/step - loss: 0.3838 - accuracy: 0.8244 - precision: 0.7062 - recall: 0.5241\n",
      "Epoch 44/50\n",
      "288/288 [==============================] - 1s 2ms/step - loss: 0.3852 - accuracy: 0.8234 - precision: 0.7081 - recall: 0.5144\n",
      "Epoch 45/50\n",
      "288/288 [==============================] - 1s 2ms/step - loss: 0.3838 - accuracy: 0.8245 - precision: 0.7065 - recall: 0.5243\n",
      "Epoch 46/50\n",
      "288/288 [==============================] - 1s 2ms/step - loss: 0.3828 - accuracy: 0.8247 - precision: 0.7086 - recall: 0.5221\n",
      "Epoch 47/50\n",
      "288/288 [==============================] - 1s 2ms/step - loss: 0.3828 - accuracy: 0.8267 - precision: 0.7130 - recall: 0.5276\n",
      "Epoch 48/50\n",
      "288/288 [==============================] - 1s 2ms/step - loss: 0.3836 - accuracy: 0.8249 - precision: 0.7106 - recall: 0.5197\n",
      "Epoch 49/50\n",
      "288/288 [==============================] - 1s 2ms/step - loss: 0.3823 - accuracy: 0.8265 - precision: 0.7157 - recall: 0.5220\n",
      "Epoch 50/50\n",
      "288/288 [==============================] - 1s 2ms/step - loss: 0.3826 - accuracy: 0.8251 - precision: 0.7052 - recall: 0.5309\n"
     ]
    }
   ],
   "source": [
    "history = model_new.fit(tf.convert_to_tensor(train_synth.iloc[:,:7]),tf.convert_to_tensor(train_synth.iloc[:,-3:]),epochs=50)"
   ]
  },
  {
   "cell_type": "code",
   "execution_count": 76,
   "id": "98f30987",
   "metadata": {},
   "outputs": [],
   "source": [
    "syn2_acc = history.history['accuracy'] "
   ]
  },
  {
   "cell_type": "code",
   "execution_count": 80,
   "id": "9cca8a08",
   "metadata": {},
   "outputs": [
    {
     "data": {
      "image/png": "[encoded data removed]",
      "text/plain": [
       "<Figure size 432x288 with 1 Axes>"
      ]
     },
     "metadata": {
      "needs_background": "light"
     },
     "output_type": "display_data"
    }
   ],
   "source": [
    "plt.plot(orig_acc,label = 'orig')\n",
    "plt.plot(syn100_acc,label = 'e=100')\n",
    "plt.plot(syn30_acc,label = 'e=30')\n",
    "plt.plot(syn2_acc,label = 'e=2')\n",
    "plt.xlabel('Epochs')\n",
    "plt.ylabel('Accuracy')\n",
    "plt.title('Training models on synthetic data')\n",
    "plt.grid()\n",
    "plt.legend()\n",
    "plt.savefig('synthetic_date_results')"
   ]
  },
  {
   "cell_type": "code",
   "execution_count": null,
   "id": "274f0ce3",
   "metadata": {},
   "outputs": [],
   "source": []
  }
 ],
 "metadata": {
  "kernelspec": {
   "display_name": "Python 3 (ipykernel)",
   "language": "python",
   "name": "python3"
  },
  "language_info": {
   "codemirror_mode": {
    "name": "ipython",
    "version": 3
   },
   "file_extension": ".py",
   "mimetype": "text/x-python",
   "name": "python",
   "nbconvert_exporter": "python",
   "pygments_lexer": "ipython3",
   "version": "3.10.4"
  }
 },
 "nbformat": 4,
 "nbformat_minor": 5
}
